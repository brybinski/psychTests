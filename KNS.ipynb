{
 "cells": [
  {
   "cell_type": "code",
   "execution_count": 58,
   "id": "da9a144a-b471-4496-a7db-225e2c04e41b",
   "metadata": {},
   "outputs": [],
   "source": [
    "import pandas as pd\n",
    "import numpy as np\n",
    "import seaborn as sb\n",
    "import openpyxl\n",
    "import datetime as dt\n",
    "import matplotlib as plt\n",
    "import pyreadstat"
   ]
  },
  {
   "cell_type": "code",
   "execution_count": 59,
   "outputs": [],
   "source": [
    "KNS: pd.DataFrame = pd.read_excel(\"D:\\\\pythonProject\\\\KNS.xlsx\", sheet_name=\"Sheet1\")"
   ],
   "metadata": {
    "collapsed": false,
    "pycharm": {
     "name": "#%%\n"
    }
   }
  },
  {
   "cell_type": "code",
   "execution_count": 60,
   "outputs": [
    {
     "data": {
      "text/plain": "   first_name    last_name Grupa       date  Łącznie  Skala_I  Skala_II\n0     Serafin   Białkowski     e 2019-06-03       40       28        12\n1     Serafin   Białkowski     e 2019-01-10       38       25        13\n2       Piotr    Borkowski     k 2018-03-08       16        7         9\n3       Piotr    Borkowski     k 2018-04-23       36       19        17\n4    Grzegorz  Chmielewski     e 2019-10-08       40       17        23\n..        ...          ...   ...        ...      ...      ...       ...\n63      Aleks      Watkins     e 2020-01-10       34       19        15\n64      Jakub      Zemlich     e 2019-10-08       64       32        32\n65      Jakub      Zemlich     e 2020-01-28       37       18        19\n66    Mateusz       Żarski     e 2019-10-08       46       25        21\n67    Mateusz       Żarski     e 2020-01-28       50       22        28\n\n[68 rows x 7 columns]",
      "text/html": "<div>\n<style scoped>\n    .dataframe tbody tr th:only-of-type {\n        vertical-align: middle;\n    }\n\n    .dataframe tbody tr th {\n        vertical-align: top;\n    }\n\n    .dataframe thead th {\n        text-align: right;\n    }\n</style>\n<table border=\"1\" class=\"dataframe\">\n  <thead>\n    <tr style=\"text-align: right;\">\n      <th></th>\n      <th>first_name</th>\n      <th>last_name</th>\n      <th>Grupa</th>\n      <th>date</th>\n      <th>Łącznie</th>\n      <th>Skala_I</th>\n      <th>Skala_II</th>\n    </tr>\n  </thead>\n  <tbody>\n    <tr>\n      <th>0</th>\n      <td>Serafin</td>\n      <td>Białkowski</td>\n      <td>e</td>\n      <td>2019-06-03</td>\n      <td>40</td>\n      <td>28</td>\n      <td>12</td>\n    </tr>\n    <tr>\n      <th>1</th>\n      <td>Serafin</td>\n      <td>Białkowski</td>\n      <td>e</td>\n      <td>2019-01-10</td>\n      <td>38</td>\n      <td>25</td>\n      <td>13</td>\n    </tr>\n    <tr>\n      <th>2</th>\n      <td>Piotr</td>\n      <td>Borkowski</td>\n      <td>k</td>\n      <td>2018-03-08</td>\n      <td>16</td>\n      <td>7</td>\n      <td>9</td>\n    </tr>\n    <tr>\n      <th>3</th>\n      <td>Piotr</td>\n      <td>Borkowski</td>\n      <td>k</td>\n      <td>2018-04-23</td>\n      <td>36</td>\n      <td>19</td>\n      <td>17</td>\n    </tr>\n    <tr>\n      <th>4</th>\n      <td>Grzegorz</td>\n      <td>Chmielewski</td>\n      <td>e</td>\n      <td>2019-10-08</td>\n      <td>40</td>\n      <td>17</td>\n      <td>23</td>\n    </tr>\n    <tr>\n      <th>...</th>\n      <td>...</td>\n      <td>...</td>\n      <td>...</td>\n      <td>...</td>\n      <td>...</td>\n      <td>...</td>\n      <td>...</td>\n    </tr>\n    <tr>\n      <th>63</th>\n      <td>Aleks</td>\n      <td>Watkins</td>\n      <td>e</td>\n      <td>2020-01-10</td>\n      <td>34</td>\n      <td>19</td>\n      <td>15</td>\n    </tr>\n    <tr>\n      <th>64</th>\n      <td>Jakub</td>\n      <td>Zemlich</td>\n      <td>e</td>\n      <td>2019-10-08</td>\n      <td>64</td>\n      <td>32</td>\n      <td>32</td>\n    </tr>\n    <tr>\n      <th>65</th>\n      <td>Jakub</td>\n      <td>Zemlich</td>\n      <td>e</td>\n      <td>2020-01-28</td>\n      <td>37</td>\n      <td>18</td>\n      <td>19</td>\n    </tr>\n    <tr>\n      <th>66</th>\n      <td>Mateusz</td>\n      <td>Żarski</td>\n      <td>e</td>\n      <td>2019-10-08</td>\n      <td>46</td>\n      <td>25</td>\n      <td>21</td>\n    </tr>\n    <tr>\n      <th>67</th>\n      <td>Mateusz</td>\n      <td>Żarski</td>\n      <td>e</td>\n      <td>2020-01-28</td>\n      <td>50</td>\n      <td>22</td>\n      <td>28</td>\n    </tr>\n  </tbody>\n</table>\n<p>68 rows × 7 columns</p>\n</div>"
     },
     "execution_count": 60,
     "metadata": {},
     "output_type": "execute_result"
    }
   ],
   "source": [
    "KNS.sort_values('last_name')\n",
    "KNS"
   ],
   "metadata": {
    "collapsed": false,
    "pycharm": {
     "name": "#%%\n"
    }
   }
  },
  {
   "cell_type": "code",
   "execution_count": 61,
   "id": "2613e125-f3dc-4719-a604-db771f63a666",
   "metadata": {},
   "outputs": [],
   "source": [
    "\n",
    "lst1 = []\n",
    "lst2 = []\n",
    "for i, row in KNS.iterrows():\n",
    "    b = True\n",
    "    for j in lst1:\n",
    "        if row['first_name'] == j['first_name'] and row['last_name'] == j['last_name']:\n",
    "            b = False\n",
    "\n",
    "    if b:\n",
    "        lst1.append(row)\n",
    "    else:\n",
    "        lst2.append(row)"
   ]
  },
  {
   "cell_type": "code",
   "execution_count": 62,
   "id": "19908f32-3590-4b6b-bf94-3e20323d44c1",
   "metadata": {},
   "outputs": [],
   "source": [
    "\n",
    "srt1 = []\n",
    "srt2 = []\n",
    "\n",
    "#should have made id for each them, it is not very large group so I didnt bother\n",
    "for i in range(len(lst1)):\n",
    "    for j in range(len(lst2)):\n",
    "        if lst1[i]['last_name'] == lst2[j]['last_name']:\n",
    "            if (lst1[i])['date'] < (lst2[j])['date']:\n",
    "                srt1.append(lst1[i])\n",
    "                srt2.append(lst2[j])\n",
    "            else:\n",
    "                srt1.append(lst2[j])\n",
    "                srt2.append(lst1[i])\n",
    "\n",
    "df_first = pd.DataFrame(srt1)\n",
    "df_second = pd.DataFrame(srt2)"
   ]
  },
  {
   "cell_type": "code",
   "execution_count": 63,
   "outputs": [
    {
     "data": {
      "text/plain": "   first_name     last_name Grupa       date  Łącznie  Skala_I  Skala_II\n1     Serafin    Białkowski     e 2019-01-10       38       25        13\n4    Grzegorz   Chmielewski     e 2019-10-08       40       17        23\n6      Patryk     Chojnacki     e 2019-10-08       48       29        19\n10     Damian         Gawin     e 2019-06-03       44       20        24\n14     Kacper       Gładysz     e 2018-03-08       12        6         6\n20      Jakub  Kazimierczuk     e 2018-03-08       52       25        27\n23     Patryk    Kędzierski     e 2019-01-10       44       22        22\n25    Mateusz      Kochniak     e 2019-01-10       34       17        17\n27     Hubert         Kosek     e 2018-04-23       64       32        32\n30  Krzysztof      Kowalski     e 2019-10-08       53       25        28\n32     Hubert   Kozierewicz     e 2018-03-08       57       27        30\n34     Ernest      Krawczyk     e 2019-10-08       42       19        23\n36      Kamil    Kruszyński     e 2018-03-08       52       32        20\n38     Patryk       Matecki     e 2019-10-08       35       15        20\n41     Kacper      Michalak     e 2019-01-10       54       27        27\n46     Damian     Pawłowski     e 2018-03-08       63       32        31\n53     Michał       Różanka     e 2019-01-10       53       24        29\n54     Antoni        Sławek     e 2019-06-03       30       14        16\n56     Robert       Smolski     e 2019-10-08       41       18        23\n58     Patryk   Śledziewski     e 2018-03-08       34       18        16\n62      Aleks       Watkins     e 2019-06-03       33       16        17\n64      Jakub       Zemlich     e 2019-10-08       64       32        32\n66    Mateusz        Żarski     e 2019-10-08       46       25        21",
      "text/html": "<div>\n<style scoped>\n    .dataframe tbody tr th:only-of-type {\n        vertical-align: middle;\n    }\n\n    .dataframe tbody tr th {\n        vertical-align: top;\n    }\n\n    .dataframe thead th {\n        text-align: right;\n    }\n</style>\n<table border=\"1\" class=\"dataframe\">\n  <thead>\n    <tr style=\"text-align: right;\">\n      <th></th>\n      <th>first_name</th>\n      <th>last_name</th>\n      <th>Grupa</th>\n      <th>date</th>\n      <th>Łącznie</th>\n      <th>Skala_I</th>\n      <th>Skala_II</th>\n    </tr>\n  </thead>\n  <tbody>\n    <tr>\n      <th>1</th>\n      <td>Serafin</td>\n      <td>Białkowski</td>\n      <td>e</td>\n      <td>2019-01-10</td>\n      <td>38</td>\n      <td>25</td>\n      <td>13</td>\n    </tr>\n    <tr>\n      <th>4</th>\n      <td>Grzegorz</td>\n      <td>Chmielewski</td>\n      <td>e</td>\n      <td>2019-10-08</td>\n      <td>40</td>\n      <td>17</td>\n      <td>23</td>\n    </tr>\n    <tr>\n      <th>6</th>\n      <td>Patryk</td>\n      <td>Chojnacki</td>\n      <td>e</td>\n      <td>2019-10-08</td>\n      <td>48</td>\n      <td>29</td>\n      <td>19</td>\n    </tr>\n    <tr>\n      <th>10</th>\n      <td>Damian</td>\n      <td>Gawin</td>\n      <td>e</td>\n      <td>2019-06-03</td>\n      <td>44</td>\n      <td>20</td>\n      <td>24</td>\n    </tr>\n    <tr>\n      <th>14</th>\n      <td>Kacper</td>\n      <td>Gładysz</td>\n      <td>e</td>\n      <td>2018-03-08</td>\n      <td>12</td>\n      <td>6</td>\n      <td>6</td>\n    </tr>\n    <tr>\n      <th>20</th>\n      <td>Jakub</td>\n      <td>Kazimierczuk</td>\n      <td>e</td>\n      <td>2018-03-08</td>\n      <td>52</td>\n      <td>25</td>\n      <td>27</td>\n    </tr>\n    <tr>\n      <th>23</th>\n      <td>Patryk</td>\n      <td>Kędzierski</td>\n      <td>e</td>\n      <td>2019-01-10</td>\n      <td>44</td>\n      <td>22</td>\n      <td>22</td>\n    </tr>\n    <tr>\n      <th>25</th>\n      <td>Mateusz</td>\n      <td>Kochniak</td>\n      <td>e</td>\n      <td>2019-01-10</td>\n      <td>34</td>\n      <td>17</td>\n      <td>17</td>\n    </tr>\n    <tr>\n      <th>27</th>\n      <td>Hubert</td>\n      <td>Kosek</td>\n      <td>e</td>\n      <td>2018-04-23</td>\n      <td>64</td>\n      <td>32</td>\n      <td>32</td>\n    </tr>\n    <tr>\n      <th>30</th>\n      <td>Krzysztof</td>\n      <td>Kowalski</td>\n      <td>e</td>\n      <td>2019-10-08</td>\n      <td>53</td>\n      <td>25</td>\n      <td>28</td>\n    </tr>\n    <tr>\n      <th>32</th>\n      <td>Hubert</td>\n      <td>Kozierewicz</td>\n      <td>e</td>\n      <td>2018-03-08</td>\n      <td>57</td>\n      <td>27</td>\n      <td>30</td>\n    </tr>\n    <tr>\n      <th>34</th>\n      <td>Ernest</td>\n      <td>Krawczyk</td>\n      <td>e</td>\n      <td>2019-10-08</td>\n      <td>42</td>\n      <td>19</td>\n      <td>23</td>\n    </tr>\n    <tr>\n      <th>36</th>\n      <td>Kamil</td>\n      <td>Kruszyński</td>\n      <td>e</td>\n      <td>2018-03-08</td>\n      <td>52</td>\n      <td>32</td>\n      <td>20</td>\n    </tr>\n    <tr>\n      <th>38</th>\n      <td>Patryk</td>\n      <td>Matecki</td>\n      <td>e</td>\n      <td>2019-10-08</td>\n      <td>35</td>\n      <td>15</td>\n      <td>20</td>\n    </tr>\n    <tr>\n      <th>41</th>\n      <td>Kacper</td>\n      <td>Michalak</td>\n      <td>e</td>\n      <td>2019-01-10</td>\n      <td>54</td>\n      <td>27</td>\n      <td>27</td>\n    </tr>\n    <tr>\n      <th>46</th>\n      <td>Damian</td>\n      <td>Pawłowski</td>\n      <td>e</td>\n      <td>2018-03-08</td>\n      <td>63</td>\n      <td>32</td>\n      <td>31</td>\n    </tr>\n    <tr>\n      <th>53</th>\n      <td>Michał</td>\n      <td>Różanka</td>\n      <td>e</td>\n      <td>2019-01-10</td>\n      <td>53</td>\n      <td>24</td>\n      <td>29</td>\n    </tr>\n    <tr>\n      <th>54</th>\n      <td>Antoni</td>\n      <td>Sławek</td>\n      <td>e</td>\n      <td>2019-06-03</td>\n      <td>30</td>\n      <td>14</td>\n      <td>16</td>\n    </tr>\n    <tr>\n      <th>56</th>\n      <td>Robert</td>\n      <td>Smolski</td>\n      <td>e</td>\n      <td>2019-10-08</td>\n      <td>41</td>\n      <td>18</td>\n      <td>23</td>\n    </tr>\n    <tr>\n      <th>58</th>\n      <td>Patryk</td>\n      <td>Śledziewski</td>\n      <td>e</td>\n      <td>2018-03-08</td>\n      <td>34</td>\n      <td>18</td>\n      <td>16</td>\n    </tr>\n    <tr>\n      <th>62</th>\n      <td>Aleks</td>\n      <td>Watkins</td>\n      <td>e</td>\n      <td>2019-06-03</td>\n      <td>33</td>\n      <td>16</td>\n      <td>17</td>\n    </tr>\n    <tr>\n      <th>64</th>\n      <td>Jakub</td>\n      <td>Zemlich</td>\n      <td>e</td>\n      <td>2019-10-08</td>\n      <td>64</td>\n      <td>32</td>\n      <td>32</td>\n    </tr>\n    <tr>\n      <th>66</th>\n      <td>Mateusz</td>\n      <td>Żarski</td>\n      <td>e</td>\n      <td>2019-10-08</td>\n      <td>46</td>\n      <td>25</td>\n      <td>21</td>\n    </tr>\n  </tbody>\n</table>\n</div>"
     },
     "execution_count": 63,
     "metadata": {},
     "output_type": "execute_result"
    }
   ],
   "source": [
    "df_first_e = df_first.loc[df_first['Grupa']=='e']\n",
    "df_first_e"
   ],
   "metadata": {
    "collapsed": false,
    "pycharm": {
     "name": "#%%\n"
    }
   }
  },
  {
   "cell_type": "code",
   "execution_count": 64,
   "outputs": [
    {
     "data": {
      "text/plain": "    first_name    last_name Grupa       date  Łącznie  Skala_I  Skala_II\n2        Piotr    Borkowski     k 2018-03-08       16        7         9\n9   Bartłomiej     Czechera     k 2018-04-23       54       29        25\n13      Michał       Gieras     k 2018-03-08       60       31        29\n16       Filip  Grzejszczak     k 2018-03-08       21       10        11\n18       Jakub     Jaworski     k 2019-06-03       39       15        24\n29      Marcel    Kowalczyk     k 2018-03-08       34       19        15\n42      Daniel   Nowakowski     k 2018-03-08       48       22        26\n44     Bartosz        Pajka     k 2018-03-08       42       24        18\n49   Klaudiusz     Pisarski     k 2018-03-08       51       27        24\n51      Marcin       Pławik     k 2018-04-23       50       24        26\n60   Krzysztof   Wasilewski     k 2018-03-08       44       27        17",
      "text/html": "<div>\n<style scoped>\n    .dataframe tbody tr th:only-of-type {\n        vertical-align: middle;\n    }\n\n    .dataframe tbody tr th {\n        vertical-align: top;\n    }\n\n    .dataframe thead th {\n        text-align: right;\n    }\n</style>\n<table border=\"1\" class=\"dataframe\">\n  <thead>\n    <tr style=\"text-align: right;\">\n      <th></th>\n      <th>first_name</th>\n      <th>last_name</th>\n      <th>Grupa</th>\n      <th>date</th>\n      <th>Łącznie</th>\n      <th>Skala_I</th>\n      <th>Skala_II</th>\n    </tr>\n  </thead>\n  <tbody>\n    <tr>\n      <th>2</th>\n      <td>Piotr</td>\n      <td>Borkowski</td>\n      <td>k</td>\n      <td>2018-03-08</td>\n      <td>16</td>\n      <td>7</td>\n      <td>9</td>\n    </tr>\n    <tr>\n      <th>9</th>\n      <td>Bartłomiej</td>\n      <td>Czechera</td>\n      <td>k</td>\n      <td>2018-04-23</td>\n      <td>54</td>\n      <td>29</td>\n      <td>25</td>\n    </tr>\n    <tr>\n      <th>13</th>\n      <td>Michał</td>\n      <td>Gieras</td>\n      <td>k</td>\n      <td>2018-03-08</td>\n      <td>60</td>\n      <td>31</td>\n      <td>29</td>\n    </tr>\n    <tr>\n      <th>16</th>\n      <td>Filip</td>\n      <td>Grzejszczak</td>\n      <td>k</td>\n      <td>2018-03-08</td>\n      <td>21</td>\n      <td>10</td>\n      <td>11</td>\n    </tr>\n    <tr>\n      <th>18</th>\n      <td>Jakub</td>\n      <td>Jaworski</td>\n      <td>k</td>\n      <td>2019-06-03</td>\n      <td>39</td>\n      <td>15</td>\n      <td>24</td>\n    </tr>\n    <tr>\n      <th>29</th>\n      <td>Marcel</td>\n      <td>Kowalczyk</td>\n      <td>k</td>\n      <td>2018-03-08</td>\n      <td>34</td>\n      <td>19</td>\n      <td>15</td>\n    </tr>\n    <tr>\n      <th>42</th>\n      <td>Daniel</td>\n      <td>Nowakowski</td>\n      <td>k</td>\n      <td>2018-03-08</td>\n      <td>48</td>\n      <td>22</td>\n      <td>26</td>\n    </tr>\n    <tr>\n      <th>44</th>\n      <td>Bartosz</td>\n      <td>Pajka</td>\n      <td>k</td>\n      <td>2018-03-08</td>\n      <td>42</td>\n      <td>24</td>\n      <td>18</td>\n    </tr>\n    <tr>\n      <th>49</th>\n      <td>Klaudiusz</td>\n      <td>Pisarski</td>\n      <td>k</td>\n      <td>2018-03-08</td>\n      <td>51</td>\n      <td>27</td>\n      <td>24</td>\n    </tr>\n    <tr>\n      <th>51</th>\n      <td>Marcin</td>\n      <td>Pławik</td>\n      <td>k</td>\n      <td>2018-04-23</td>\n      <td>50</td>\n      <td>24</td>\n      <td>26</td>\n    </tr>\n    <tr>\n      <th>60</th>\n      <td>Krzysztof</td>\n      <td>Wasilewski</td>\n      <td>k</td>\n      <td>2018-03-08</td>\n      <td>44</td>\n      <td>27</td>\n      <td>17</td>\n    </tr>\n  </tbody>\n</table>\n</div>"
     },
     "execution_count": 64,
     "metadata": {},
     "output_type": "execute_result"
    }
   ],
   "source": [
    "df_first_k = df_first.loc[df_first['Grupa']=='k']\n",
    "df_first_k"
   ],
   "metadata": {
    "collapsed": false,
    "pycharm": {
     "name": "#%%\n"
    }
   }
  },
  {
   "cell_type": "code",
   "execution_count": 65,
   "outputs": [
    {
     "data": {
      "text/plain": "   first_name     last_name Grupa       date  Łącznie  Skala_I  Skala_II\n0     Serafin    Białkowski     e 2019-06-03       40       28        12\n5    Grzegorz   Chmielewski     e 2020-01-28       34       19        15\n7      Patryk     Chojnacki     e 2020-01-28       47       28        19\n11     Damian         Gawin     e 2020-02-28       55       24        31\n15     Kacper       Gładysz     e 2018-04-23       51       31        20\n21      Jakub  Kazimierczuk     e 2018-04-23       38       19        19\n22     Patryk    Kędzierski     e 2019-06-03       56       29        27\n24    Mateusz      Kochniak     e 2019-06-03       15        5        10\n26     Hubert         Kosek     e 2019-06-03       58       29        29\n31  Krzysztof      Kowalski     e 2020-01-28       47       24        23\n33     Hubert   Kozierewicz     e 2018-04-23       36       19        17\n35     Ernest      Krawczyk     e 2020-01-28       39       20        19\n37      Kamil    Kruszyński     e 2019-01-10       53       26        27\n39     Patryk       Matecki     e 2020-01-28       44       20        24\n40     Kacper      Michalak     e 2019-06-03       57       29        28\n47     Damian     Pawłowski     e 2018-04-23       61       32        29\n52     Michał       Różanka     e 2019-06-03       46       24        22\n55     Antoni        Sławek     e 2020-02-28       54       22        32\n57     Robert       Smolski     e 2020-01-28       42       21        21\n59     Patryk   Śledziewski     e 2018-04-23       46       26        20\n63      Aleks       Watkins     e 2020-01-10       34       19        15\n65      Jakub       Zemlich     e 2020-01-28       37       18        19\n67    Mateusz        Żarski     e 2020-01-28       50       22        28",
      "text/html": "<div>\n<style scoped>\n    .dataframe tbody tr th:only-of-type {\n        vertical-align: middle;\n    }\n\n    .dataframe tbody tr th {\n        vertical-align: top;\n    }\n\n    .dataframe thead th {\n        text-align: right;\n    }\n</style>\n<table border=\"1\" class=\"dataframe\">\n  <thead>\n    <tr style=\"text-align: right;\">\n      <th></th>\n      <th>first_name</th>\n      <th>last_name</th>\n      <th>Grupa</th>\n      <th>date</th>\n      <th>Łącznie</th>\n      <th>Skala_I</th>\n      <th>Skala_II</th>\n    </tr>\n  </thead>\n  <tbody>\n    <tr>\n      <th>0</th>\n      <td>Serafin</td>\n      <td>Białkowski</td>\n      <td>e</td>\n      <td>2019-06-03</td>\n      <td>40</td>\n      <td>28</td>\n      <td>12</td>\n    </tr>\n    <tr>\n      <th>5</th>\n      <td>Grzegorz</td>\n      <td>Chmielewski</td>\n      <td>e</td>\n      <td>2020-01-28</td>\n      <td>34</td>\n      <td>19</td>\n      <td>15</td>\n    </tr>\n    <tr>\n      <th>7</th>\n      <td>Patryk</td>\n      <td>Chojnacki</td>\n      <td>e</td>\n      <td>2020-01-28</td>\n      <td>47</td>\n      <td>28</td>\n      <td>19</td>\n    </tr>\n    <tr>\n      <th>11</th>\n      <td>Damian</td>\n      <td>Gawin</td>\n      <td>e</td>\n      <td>2020-02-28</td>\n      <td>55</td>\n      <td>24</td>\n      <td>31</td>\n    </tr>\n    <tr>\n      <th>15</th>\n      <td>Kacper</td>\n      <td>Gładysz</td>\n      <td>e</td>\n      <td>2018-04-23</td>\n      <td>51</td>\n      <td>31</td>\n      <td>20</td>\n    </tr>\n    <tr>\n      <th>21</th>\n      <td>Jakub</td>\n      <td>Kazimierczuk</td>\n      <td>e</td>\n      <td>2018-04-23</td>\n      <td>38</td>\n      <td>19</td>\n      <td>19</td>\n    </tr>\n    <tr>\n      <th>22</th>\n      <td>Patryk</td>\n      <td>Kędzierski</td>\n      <td>e</td>\n      <td>2019-06-03</td>\n      <td>56</td>\n      <td>29</td>\n      <td>27</td>\n    </tr>\n    <tr>\n      <th>24</th>\n      <td>Mateusz</td>\n      <td>Kochniak</td>\n      <td>e</td>\n      <td>2019-06-03</td>\n      <td>15</td>\n      <td>5</td>\n      <td>10</td>\n    </tr>\n    <tr>\n      <th>26</th>\n      <td>Hubert</td>\n      <td>Kosek</td>\n      <td>e</td>\n      <td>2019-06-03</td>\n      <td>58</td>\n      <td>29</td>\n      <td>29</td>\n    </tr>\n    <tr>\n      <th>31</th>\n      <td>Krzysztof</td>\n      <td>Kowalski</td>\n      <td>e</td>\n      <td>2020-01-28</td>\n      <td>47</td>\n      <td>24</td>\n      <td>23</td>\n    </tr>\n    <tr>\n      <th>33</th>\n      <td>Hubert</td>\n      <td>Kozierewicz</td>\n      <td>e</td>\n      <td>2018-04-23</td>\n      <td>36</td>\n      <td>19</td>\n      <td>17</td>\n    </tr>\n    <tr>\n      <th>35</th>\n      <td>Ernest</td>\n      <td>Krawczyk</td>\n      <td>e</td>\n      <td>2020-01-28</td>\n      <td>39</td>\n      <td>20</td>\n      <td>19</td>\n    </tr>\n    <tr>\n      <th>37</th>\n      <td>Kamil</td>\n      <td>Kruszyński</td>\n      <td>e</td>\n      <td>2019-01-10</td>\n      <td>53</td>\n      <td>26</td>\n      <td>27</td>\n    </tr>\n    <tr>\n      <th>39</th>\n      <td>Patryk</td>\n      <td>Matecki</td>\n      <td>e</td>\n      <td>2020-01-28</td>\n      <td>44</td>\n      <td>20</td>\n      <td>24</td>\n    </tr>\n    <tr>\n      <th>40</th>\n      <td>Kacper</td>\n      <td>Michalak</td>\n      <td>e</td>\n      <td>2019-06-03</td>\n      <td>57</td>\n      <td>29</td>\n      <td>28</td>\n    </tr>\n    <tr>\n      <th>47</th>\n      <td>Damian</td>\n      <td>Pawłowski</td>\n      <td>e</td>\n      <td>2018-04-23</td>\n      <td>61</td>\n      <td>32</td>\n      <td>29</td>\n    </tr>\n    <tr>\n      <th>52</th>\n      <td>Michał</td>\n      <td>Różanka</td>\n      <td>e</td>\n      <td>2019-06-03</td>\n      <td>46</td>\n      <td>24</td>\n      <td>22</td>\n    </tr>\n    <tr>\n      <th>55</th>\n      <td>Antoni</td>\n      <td>Sławek</td>\n      <td>e</td>\n      <td>2020-02-28</td>\n      <td>54</td>\n      <td>22</td>\n      <td>32</td>\n    </tr>\n    <tr>\n      <th>57</th>\n      <td>Robert</td>\n      <td>Smolski</td>\n      <td>e</td>\n      <td>2020-01-28</td>\n      <td>42</td>\n      <td>21</td>\n      <td>21</td>\n    </tr>\n    <tr>\n      <th>59</th>\n      <td>Patryk</td>\n      <td>Śledziewski</td>\n      <td>e</td>\n      <td>2018-04-23</td>\n      <td>46</td>\n      <td>26</td>\n      <td>20</td>\n    </tr>\n    <tr>\n      <th>63</th>\n      <td>Aleks</td>\n      <td>Watkins</td>\n      <td>e</td>\n      <td>2020-01-10</td>\n      <td>34</td>\n      <td>19</td>\n      <td>15</td>\n    </tr>\n    <tr>\n      <th>65</th>\n      <td>Jakub</td>\n      <td>Zemlich</td>\n      <td>e</td>\n      <td>2020-01-28</td>\n      <td>37</td>\n      <td>18</td>\n      <td>19</td>\n    </tr>\n    <tr>\n      <th>67</th>\n      <td>Mateusz</td>\n      <td>Żarski</td>\n      <td>e</td>\n      <td>2020-01-28</td>\n      <td>50</td>\n      <td>22</td>\n      <td>28</td>\n    </tr>\n  </tbody>\n</table>\n</div>"
     },
     "execution_count": 65,
     "metadata": {},
     "output_type": "execute_result"
    }
   ],
   "source": [
    "df_second_e = df_second.loc[df_second['Grupa'] == 'e']\n",
    "df_second_e"
   ],
   "metadata": {
    "collapsed": false,
    "pycharm": {
     "name": "#%%\n"
    }
   }
  },
  {
   "cell_type": "code",
   "execution_count": 66,
   "outputs": [
    {
     "data": {
      "text/plain": "    first_name    last_name Grupa       date  Łącznie  Skala_I  Skala_II\n3        Piotr    Borkowski     k 2018-04-23       36       19        17\n8   Bartłomiej     Czechera     k 2019-06-03       31       22         9\n12      Michał       Gieras     k 2020-02-28       64       32        32\n17       Filip  Grzejszczak     k 2018-04-23       26       10        16\n19       Jakub     Jaworski     k 2020-02-28       41       26        15\n28      Marcel    Kowalczyk     k 2018-04-23       41       23        18\n43      Daniel   Nowakowski     k 2018-04-23       54       27        27\n45     Bartosz        Pajka     k 2018-04-23       36       22        14\n48   Klaudiusz     Pisarski     k 2019-06-03       53       26        27\n50      Marcin       Pławik     k 2019-06-03       55       28        27\n61   Krzysztof   Wasilewski     k 2018-04-23       55       28        27",
      "text/html": "<div>\n<style scoped>\n    .dataframe tbody tr th:only-of-type {\n        vertical-align: middle;\n    }\n\n    .dataframe tbody tr th {\n        vertical-align: top;\n    }\n\n    .dataframe thead th {\n        text-align: right;\n    }\n</style>\n<table border=\"1\" class=\"dataframe\">\n  <thead>\n    <tr style=\"text-align: right;\">\n      <th></th>\n      <th>first_name</th>\n      <th>last_name</th>\n      <th>Grupa</th>\n      <th>date</th>\n      <th>Łącznie</th>\n      <th>Skala_I</th>\n      <th>Skala_II</th>\n    </tr>\n  </thead>\n  <tbody>\n    <tr>\n      <th>3</th>\n      <td>Piotr</td>\n      <td>Borkowski</td>\n      <td>k</td>\n      <td>2018-04-23</td>\n      <td>36</td>\n      <td>19</td>\n      <td>17</td>\n    </tr>\n    <tr>\n      <th>8</th>\n      <td>Bartłomiej</td>\n      <td>Czechera</td>\n      <td>k</td>\n      <td>2019-06-03</td>\n      <td>31</td>\n      <td>22</td>\n      <td>9</td>\n    </tr>\n    <tr>\n      <th>12</th>\n      <td>Michał</td>\n      <td>Gieras</td>\n      <td>k</td>\n      <td>2020-02-28</td>\n      <td>64</td>\n      <td>32</td>\n      <td>32</td>\n    </tr>\n    <tr>\n      <th>17</th>\n      <td>Filip</td>\n      <td>Grzejszczak</td>\n      <td>k</td>\n      <td>2018-04-23</td>\n      <td>26</td>\n      <td>10</td>\n      <td>16</td>\n    </tr>\n    <tr>\n      <th>19</th>\n      <td>Jakub</td>\n      <td>Jaworski</td>\n      <td>k</td>\n      <td>2020-02-28</td>\n      <td>41</td>\n      <td>26</td>\n      <td>15</td>\n    </tr>\n    <tr>\n      <th>28</th>\n      <td>Marcel</td>\n      <td>Kowalczyk</td>\n      <td>k</td>\n      <td>2018-04-23</td>\n      <td>41</td>\n      <td>23</td>\n      <td>18</td>\n    </tr>\n    <tr>\n      <th>43</th>\n      <td>Daniel</td>\n      <td>Nowakowski</td>\n      <td>k</td>\n      <td>2018-04-23</td>\n      <td>54</td>\n      <td>27</td>\n      <td>27</td>\n    </tr>\n    <tr>\n      <th>45</th>\n      <td>Bartosz</td>\n      <td>Pajka</td>\n      <td>k</td>\n      <td>2018-04-23</td>\n      <td>36</td>\n      <td>22</td>\n      <td>14</td>\n    </tr>\n    <tr>\n      <th>48</th>\n      <td>Klaudiusz</td>\n      <td>Pisarski</td>\n      <td>k</td>\n      <td>2019-06-03</td>\n      <td>53</td>\n      <td>26</td>\n      <td>27</td>\n    </tr>\n    <tr>\n      <th>50</th>\n      <td>Marcin</td>\n      <td>Pławik</td>\n      <td>k</td>\n      <td>2019-06-03</td>\n      <td>55</td>\n      <td>28</td>\n      <td>27</td>\n    </tr>\n    <tr>\n      <th>61</th>\n      <td>Krzysztof</td>\n      <td>Wasilewski</td>\n      <td>k</td>\n      <td>2018-04-23</td>\n      <td>55</td>\n      <td>28</td>\n      <td>27</td>\n    </tr>\n  </tbody>\n</table>\n</div>"
     },
     "execution_count": 66,
     "metadata": {},
     "output_type": "execute_result"
    }
   ],
   "source": [
    "df_second_k = df_second.loc[df_second['Grupa'] == 'k']\n",
    "df_second_k"
   ],
   "metadata": {
    "collapsed": false,
    "pycharm": {
     "name": "#%%\n"
    }
   }
  },
  {
   "cell_type": "code",
   "execution_count": 67,
   "outputs": [],
   "source": [
    "mean_e_first = pd.DataFrame.mean(df_first_e, numeric_only=True)\n",
    "mean_e_first['type'] = ['e_first']\n",
    "mean_k_first = pd.DataFrame.mean(df_first_k, numeric_only=True)\n",
    "mean_k_first['type'] = ['k_first']\n",
    "mean_e_second = pd.DataFrame.mean(df_second_e, numeric_only=True)\n",
    "mean_e_second['type'] = ['e_second']\n",
    "mean_k_second = pd.DataFrame.mean(df_second_k, numeric_only=True)\n",
    "mean_k_second['type'] = ['k_second']\n"
   ],
   "metadata": {
    "collapsed": false,
    "pycharm": {
     "name": "#%%\n"
    }
   }
  },
  {
   "cell_type": "code",
   "execution_count": 68,
   "outputs": [
    {
     "data": {
      "text/plain": "Łącznie     44.913043\nSkala_I     22.478261\nSkala_II    22.434783\ntype        [e_first]\ndtype: object"
     },
     "execution_count": 68,
     "metadata": {},
     "output_type": "execute_result"
    }
   ],
   "source": [
    "mean_e_first"
   ],
   "metadata": {
    "collapsed": false,
    "pycharm": {
     "name": "#%%\n"
    }
   }
  },
  {
   "cell_type": "code",
   "execution_count": 73,
   "outputs": [
    {
     "data": {
      "text/plain": "    first_name     last_name Grupa       date  Łącznie  Skala_I  Skala_II\n1      Serafin    Białkowski     e 2019-01-10       38       25        13\n2        Piotr     Borkowski     k 2018-03-08       16        7         9\n4     Grzegorz   Chmielewski     e 2019-10-08       40       17        23\n6       Patryk     Chojnacki     e 2019-10-08       48       29        19\n9   Bartłomiej      Czechera     k 2018-04-23       54       29        25\n10      Damian         Gawin     e 2019-06-03       44       20        24\n13      Michał        Gieras     k 2018-03-08       60       31        29\n14      Kacper       Gładysz     e 2018-03-08       12        6         6\n16       Filip   Grzejszczak     k 2018-03-08       21       10        11\n18       Jakub      Jaworski     k 2019-06-03       39       15        24\n20       Jakub  Kazimierczuk     e 2018-03-08       52       25        27\n23      Patryk    Kędzierski     e 2019-01-10       44       22        22\n25     Mateusz      Kochniak     e 2019-01-10       34       17        17\n27      Hubert         Kosek     e 2018-04-23       64       32        32\n29      Marcel     Kowalczyk     k 2018-03-08       34       19        15\n30   Krzysztof      Kowalski     e 2019-10-08       53       25        28\n32      Hubert   Kozierewicz     e 2018-03-08       57       27        30\n34      Ernest      Krawczyk     e 2019-10-08       42       19        23\n36       Kamil    Kruszyński     e 2018-03-08       52       32        20\n38      Patryk       Matecki     e 2019-10-08       35       15        20\n41      Kacper      Michalak     e 2019-01-10       54       27        27\n42      Daniel    Nowakowski     k 2018-03-08       48       22        26\n44     Bartosz         Pajka     k 2018-03-08       42       24        18\n46      Damian     Pawłowski     e 2018-03-08       63       32        31\n49   Klaudiusz      Pisarski     k 2018-03-08       51       27        24\n51      Marcin        Pławik     k 2018-04-23       50       24        26\n53      Michał       Różanka     e 2019-01-10       53       24        29\n54      Antoni        Sławek     e 2019-06-03       30       14        16\n56      Robert       Smolski     e 2019-10-08       41       18        23\n58      Patryk   Śledziewski     e 2018-03-08       34       18        16\n60   Krzysztof    Wasilewski     k 2018-03-08       44       27        17\n62       Aleks       Watkins     e 2019-06-03       33       16        17\n64       Jakub       Zemlich     e 2019-10-08       64       32        32\n66     Mateusz        Żarski     e 2019-10-08       46       25        21",
      "text/html": "<div>\n<style scoped>\n    .dataframe tbody tr th:only-of-type {\n        vertical-align: middle;\n    }\n\n    .dataframe tbody tr th {\n        vertical-align: top;\n    }\n\n    .dataframe thead th {\n        text-align: right;\n    }\n</style>\n<table border=\"1\" class=\"dataframe\">\n  <thead>\n    <tr style=\"text-align: right;\">\n      <th></th>\n      <th>first_name</th>\n      <th>last_name</th>\n      <th>Grupa</th>\n      <th>date</th>\n      <th>Łącznie</th>\n      <th>Skala_I</th>\n      <th>Skala_II</th>\n    </tr>\n  </thead>\n  <tbody>\n    <tr>\n      <th>1</th>\n      <td>Serafin</td>\n      <td>Białkowski</td>\n      <td>e</td>\n      <td>2019-01-10</td>\n      <td>38</td>\n      <td>25</td>\n      <td>13</td>\n    </tr>\n    <tr>\n      <th>2</th>\n      <td>Piotr</td>\n      <td>Borkowski</td>\n      <td>k</td>\n      <td>2018-03-08</td>\n      <td>16</td>\n      <td>7</td>\n      <td>9</td>\n    </tr>\n    <tr>\n      <th>4</th>\n      <td>Grzegorz</td>\n      <td>Chmielewski</td>\n      <td>e</td>\n      <td>2019-10-08</td>\n      <td>40</td>\n      <td>17</td>\n      <td>23</td>\n    </tr>\n    <tr>\n      <th>6</th>\n      <td>Patryk</td>\n      <td>Chojnacki</td>\n      <td>e</td>\n      <td>2019-10-08</td>\n      <td>48</td>\n      <td>29</td>\n      <td>19</td>\n    </tr>\n    <tr>\n      <th>9</th>\n      <td>Bartłomiej</td>\n      <td>Czechera</td>\n      <td>k</td>\n      <td>2018-04-23</td>\n      <td>54</td>\n      <td>29</td>\n      <td>25</td>\n    </tr>\n    <tr>\n      <th>10</th>\n      <td>Damian</td>\n      <td>Gawin</td>\n      <td>e</td>\n      <td>2019-06-03</td>\n      <td>44</td>\n      <td>20</td>\n      <td>24</td>\n    </tr>\n    <tr>\n      <th>13</th>\n      <td>Michał</td>\n      <td>Gieras</td>\n      <td>k</td>\n      <td>2018-03-08</td>\n      <td>60</td>\n      <td>31</td>\n      <td>29</td>\n    </tr>\n    <tr>\n      <th>14</th>\n      <td>Kacper</td>\n      <td>Gładysz</td>\n      <td>e</td>\n      <td>2018-03-08</td>\n      <td>12</td>\n      <td>6</td>\n      <td>6</td>\n    </tr>\n    <tr>\n      <th>16</th>\n      <td>Filip</td>\n      <td>Grzejszczak</td>\n      <td>k</td>\n      <td>2018-03-08</td>\n      <td>21</td>\n      <td>10</td>\n      <td>11</td>\n    </tr>\n    <tr>\n      <th>18</th>\n      <td>Jakub</td>\n      <td>Jaworski</td>\n      <td>k</td>\n      <td>2019-06-03</td>\n      <td>39</td>\n      <td>15</td>\n      <td>24</td>\n    </tr>\n    <tr>\n      <th>20</th>\n      <td>Jakub</td>\n      <td>Kazimierczuk</td>\n      <td>e</td>\n      <td>2018-03-08</td>\n      <td>52</td>\n      <td>25</td>\n      <td>27</td>\n    </tr>\n    <tr>\n      <th>23</th>\n      <td>Patryk</td>\n      <td>Kędzierski</td>\n      <td>e</td>\n      <td>2019-01-10</td>\n      <td>44</td>\n      <td>22</td>\n      <td>22</td>\n    </tr>\n    <tr>\n      <th>25</th>\n      <td>Mateusz</td>\n      <td>Kochniak</td>\n      <td>e</td>\n      <td>2019-01-10</td>\n      <td>34</td>\n      <td>17</td>\n      <td>17</td>\n    </tr>\n    <tr>\n      <th>27</th>\n      <td>Hubert</td>\n      <td>Kosek</td>\n      <td>e</td>\n      <td>2018-04-23</td>\n      <td>64</td>\n      <td>32</td>\n      <td>32</td>\n    </tr>\n    <tr>\n      <th>29</th>\n      <td>Marcel</td>\n      <td>Kowalczyk</td>\n      <td>k</td>\n      <td>2018-03-08</td>\n      <td>34</td>\n      <td>19</td>\n      <td>15</td>\n    </tr>\n    <tr>\n      <th>30</th>\n      <td>Krzysztof</td>\n      <td>Kowalski</td>\n      <td>e</td>\n      <td>2019-10-08</td>\n      <td>53</td>\n      <td>25</td>\n      <td>28</td>\n    </tr>\n    <tr>\n      <th>32</th>\n      <td>Hubert</td>\n      <td>Kozierewicz</td>\n      <td>e</td>\n      <td>2018-03-08</td>\n      <td>57</td>\n      <td>27</td>\n      <td>30</td>\n    </tr>\n    <tr>\n      <th>34</th>\n      <td>Ernest</td>\n      <td>Krawczyk</td>\n      <td>e</td>\n      <td>2019-10-08</td>\n      <td>42</td>\n      <td>19</td>\n      <td>23</td>\n    </tr>\n    <tr>\n      <th>36</th>\n      <td>Kamil</td>\n      <td>Kruszyński</td>\n      <td>e</td>\n      <td>2018-03-08</td>\n      <td>52</td>\n      <td>32</td>\n      <td>20</td>\n    </tr>\n    <tr>\n      <th>38</th>\n      <td>Patryk</td>\n      <td>Matecki</td>\n      <td>e</td>\n      <td>2019-10-08</td>\n      <td>35</td>\n      <td>15</td>\n      <td>20</td>\n    </tr>\n    <tr>\n      <th>41</th>\n      <td>Kacper</td>\n      <td>Michalak</td>\n      <td>e</td>\n      <td>2019-01-10</td>\n      <td>54</td>\n      <td>27</td>\n      <td>27</td>\n    </tr>\n    <tr>\n      <th>42</th>\n      <td>Daniel</td>\n      <td>Nowakowski</td>\n      <td>k</td>\n      <td>2018-03-08</td>\n      <td>48</td>\n      <td>22</td>\n      <td>26</td>\n    </tr>\n    <tr>\n      <th>44</th>\n      <td>Bartosz</td>\n      <td>Pajka</td>\n      <td>k</td>\n      <td>2018-03-08</td>\n      <td>42</td>\n      <td>24</td>\n      <td>18</td>\n    </tr>\n    <tr>\n      <th>46</th>\n      <td>Damian</td>\n      <td>Pawłowski</td>\n      <td>e</td>\n      <td>2018-03-08</td>\n      <td>63</td>\n      <td>32</td>\n      <td>31</td>\n    </tr>\n    <tr>\n      <th>49</th>\n      <td>Klaudiusz</td>\n      <td>Pisarski</td>\n      <td>k</td>\n      <td>2018-03-08</td>\n      <td>51</td>\n      <td>27</td>\n      <td>24</td>\n    </tr>\n    <tr>\n      <th>51</th>\n      <td>Marcin</td>\n      <td>Pławik</td>\n      <td>k</td>\n      <td>2018-04-23</td>\n      <td>50</td>\n      <td>24</td>\n      <td>26</td>\n    </tr>\n    <tr>\n      <th>53</th>\n      <td>Michał</td>\n      <td>Różanka</td>\n      <td>e</td>\n      <td>2019-01-10</td>\n      <td>53</td>\n      <td>24</td>\n      <td>29</td>\n    </tr>\n    <tr>\n      <th>54</th>\n      <td>Antoni</td>\n      <td>Sławek</td>\n      <td>e</td>\n      <td>2019-06-03</td>\n      <td>30</td>\n      <td>14</td>\n      <td>16</td>\n    </tr>\n    <tr>\n      <th>56</th>\n      <td>Robert</td>\n      <td>Smolski</td>\n      <td>e</td>\n      <td>2019-10-08</td>\n      <td>41</td>\n      <td>18</td>\n      <td>23</td>\n    </tr>\n    <tr>\n      <th>58</th>\n      <td>Patryk</td>\n      <td>Śledziewski</td>\n      <td>e</td>\n      <td>2018-03-08</td>\n      <td>34</td>\n      <td>18</td>\n      <td>16</td>\n    </tr>\n    <tr>\n      <th>60</th>\n      <td>Krzysztof</td>\n      <td>Wasilewski</td>\n      <td>k</td>\n      <td>2018-03-08</td>\n      <td>44</td>\n      <td>27</td>\n      <td>17</td>\n    </tr>\n    <tr>\n      <th>62</th>\n      <td>Aleks</td>\n      <td>Watkins</td>\n      <td>e</td>\n      <td>2019-06-03</td>\n      <td>33</td>\n      <td>16</td>\n      <td>17</td>\n    </tr>\n    <tr>\n      <th>64</th>\n      <td>Jakub</td>\n      <td>Zemlich</td>\n      <td>e</td>\n      <td>2019-10-08</td>\n      <td>64</td>\n      <td>32</td>\n      <td>32</td>\n    </tr>\n    <tr>\n      <th>66</th>\n      <td>Mateusz</td>\n      <td>Żarski</td>\n      <td>e</td>\n      <td>2019-10-08</td>\n      <td>46</td>\n      <td>25</td>\n      <td>21</td>\n    </tr>\n  </tbody>\n</table>\n</div>"
     },
     "execution_count": 73,
     "metadata": {},
     "output_type": "execute_result"
    }
   ],
   "source": [
    "df_first"
   ],
   "metadata": {
    "collapsed": false,
    "pycharm": {
     "name": "#%%\n"
    }
   }
  },
  {
   "cell_type": "code",
   "execution_count": 72,
   "outputs": [
    {
     "data": {
      "text/plain": "    first_name     last_name Grupa       date  Łącznie  Skala_I  Skala_II\n0      Serafin    Białkowski     e 2019-06-03       40       28        12\n3        Piotr     Borkowski     k 2018-04-23       36       19        17\n5     Grzegorz   Chmielewski     e 2020-01-28       34       19        15\n7       Patryk     Chojnacki     e 2020-01-28       47       28        19\n8   Bartłomiej      Czechera     k 2019-06-03       31       22         9\n11      Damian         Gawin     e 2020-02-28       55       24        31\n12      Michał        Gieras     k 2020-02-28       64       32        32\n15      Kacper       Gładysz     e 2018-04-23       51       31        20\n17       Filip   Grzejszczak     k 2018-04-23       26       10        16\n19       Jakub      Jaworski     k 2020-02-28       41       26        15\n21       Jakub  Kazimierczuk     e 2018-04-23       38       19        19\n22      Patryk    Kędzierski     e 2019-06-03       56       29        27\n24     Mateusz      Kochniak     e 2019-06-03       15        5        10\n26      Hubert         Kosek     e 2019-06-03       58       29        29\n28      Marcel     Kowalczyk     k 2018-04-23       41       23        18\n31   Krzysztof      Kowalski     e 2020-01-28       47       24        23\n33      Hubert   Kozierewicz     e 2018-04-23       36       19        17\n35      Ernest      Krawczyk     e 2020-01-28       39       20        19\n37       Kamil    Kruszyński     e 2019-01-10       53       26        27\n39      Patryk       Matecki     e 2020-01-28       44       20        24\n40      Kacper      Michalak     e 2019-06-03       57       29        28\n43      Daniel    Nowakowski     k 2018-04-23       54       27        27\n45     Bartosz         Pajka     k 2018-04-23       36       22        14\n47      Damian     Pawłowski     e 2018-04-23       61       32        29\n48   Klaudiusz      Pisarski     k 2019-06-03       53       26        27\n50      Marcin        Pławik     k 2019-06-03       55       28        27\n52      Michał       Różanka     e 2019-06-03       46       24        22\n55      Antoni        Sławek     e 2020-02-28       54       22        32\n57      Robert       Smolski     e 2020-01-28       42       21        21\n59      Patryk   Śledziewski     e 2018-04-23       46       26        20\n61   Krzysztof    Wasilewski     k 2018-04-23       55       28        27\n63       Aleks       Watkins     e 2020-01-10       34       19        15\n65       Jakub       Zemlich     e 2020-01-28       37       18        19\n67     Mateusz        Żarski     e 2020-01-28       50       22        28",
      "text/html": "<div>\n<style scoped>\n    .dataframe tbody tr th:only-of-type {\n        vertical-align: middle;\n    }\n\n    .dataframe tbody tr th {\n        vertical-align: top;\n    }\n\n    .dataframe thead th {\n        text-align: right;\n    }\n</style>\n<table border=\"1\" class=\"dataframe\">\n  <thead>\n    <tr style=\"text-align: right;\">\n      <th></th>\n      <th>first_name</th>\n      <th>last_name</th>\n      <th>Grupa</th>\n      <th>date</th>\n      <th>Łącznie</th>\n      <th>Skala_I</th>\n      <th>Skala_II</th>\n    </tr>\n  </thead>\n  <tbody>\n    <tr>\n      <th>0</th>\n      <td>Serafin</td>\n      <td>Białkowski</td>\n      <td>e</td>\n      <td>2019-06-03</td>\n      <td>40</td>\n      <td>28</td>\n      <td>12</td>\n    </tr>\n    <tr>\n      <th>3</th>\n      <td>Piotr</td>\n      <td>Borkowski</td>\n      <td>k</td>\n      <td>2018-04-23</td>\n      <td>36</td>\n      <td>19</td>\n      <td>17</td>\n    </tr>\n    <tr>\n      <th>5</th>\n      <td>Grzegorz</td>\n      <td>Chmielewski</td>\n      <td>e</td>\n      <td>2020-01-28</td>\n      <td>34</td>\n      <td>19</td>\n      <td>15</td>\n    </tr>\n    <tr>\n      <th>7</th>\n      <td>Patryk</td>\n      <td>Chojnacki</td>\n      <td>e</td>\n      <td>2020-01-28</td>\n      <td>47</td>\n      <td>28</td>\n      <td>19</td>\n    </tr>\n    <tr>\n      <th>8</th>\n      <td>Bartłomiej</td>\n      <td>Czechera</td>\n      <td>k</td>\n      <td>2019-06-03</td>\n      <td>31</td>\n      <td>22</td>\n      <td>9</td>\n    </tr>\n    <tr>\n      <th>11</th>\n      <td>Damian</td>\n      <td>Gawin</td>\n      <td>e</td>\n      <td>2020-02-28</td>\n      <td>55</td>\n      <td>24</td>\n      <td>31</td>\n    </tr>\n    <tr>\n      <th>12</th>\n      <td>Michał</td>\n      <td>Gieras</td>\n      <td>k</td>\n      <td>2020-02-28</td>\n      <td>64</td>\n      <td>32</td>\n      <td>32</td>\n    </tr>\n    <tr>\n      <th>15</th>\n      <td>Kacper</td>\n      <td>Gładysz</td>\n      <td>e</td>\n      <td>2018-04-23</td>\n      <td>51</td>\n      <td>31</td>\n      <td>20</td>\n    </tr>\n    <tr>\n      <th>17</th>\n      <td>Filip</td>\n      <td>Grzejszczak</td>\n      <td>k</td>\n      <td>2018-04-23</td>\n      <td>26</td>\n      <td>10</td>\n      <td>16</td>\n    </tr>\n    <tr>\n      <th>19</th>\n      <td>Jakub</td>\n      <td>Jaworski</td>\n      <td>k</td>\n      <td>2020-02-28</td>\n      <td>41</td>\n      <td>26</td>\n      <td>15</td>\n    </tr>\n    <tr>\n      <th>21</th>\n      <td>Jakub</td>\n      <td>Kazimierczuk</td>\n      <td>e</td>\n      <td>2018-04-23</td>\n      <td>38</td>\n      <td>19</td>\n      <td>19</td>\n    </tr>\n    <tr>\n      <th>22</th>\n      <td>Patryk</td>\n      <td>Kędzierski</td>\n      <td>e</td>\n      <td>2019-06-03</td>\n      <td>56</td>\n      <td>29</td>\n      <td>27</td>\n    </tr>\n    <tr>\n      <th>24</th>\n      <td>Mateusz</td>\n      <td>Kochniak</td>\n      <td>e</td>\n      <td>2019-06-03</td>\n      <td>15</td>\n      <td>5</td>\n      <td>10</td>\n    </tr>\n    <tr>\n      <th>26</th>\n      <td>Hubert</td>\n      <td>Kosek</td>\n      <td>e</td>\n      <td>2019-06-03</td>\n      <td>58</td>\n      <td>29</td>\n      <td>29</td>\n    </tr>\n    <tr>\n      <th>28</th>\n      <td>Marcel</td>\n      <td>Kowalczyk</td>\n      <td>k</td>\n      <td>2018-04-23</td>\n      <td>41</td>\n      <td>23</td>\n      <td>18</td>\n    </tr>\n    <tr>\n      <th>31</th>\n      <td>Krzysztof</td>\n      <td>Kowalski</td>\n      <td>e</td>\n      <td>2020-01-28</td>\n      <td>47</td>\n      <td>24</td>\n      <td>23</td>\n    </tr>\n    <tr>\n      <th>33</th>\n      <td>Hubert</td>\n      <td>Kozierewicz</td>\n      <td>e</td>\n      <td>2018-04-23</td>\n      <td>36</td>\n      <td>19</td>\n      <td>17</td>\n    </tr>\n    <tr>\n      <th>35</th>\n      <td>Ernest</td>\n      <td>Krawczyk</td>\n      <td>e</td>\n      <td>2020-01-28</td>\n      <td>39</td>\n      <td>20</td>\n      <td>19</td>\n    </tr>\n    <tr>\n      <th>37</th>\n      <td>Kamil</td>\n      <td>Kruszyński</td>\n      <td>e</td>\n      <td>2019-01-10</td>\n      <td>53</td>\n      <td>26</td>\n      <td>27</td>\n    </tr>\n    <tr>\n      <th>39</th>\n      <td>Patryk</td>\n      <td>Matecki</td>\n      <td>e</td>\n      <td>2020-01-28</td>\n      <td>44</td>\n      <td>20</td>\n      <td>24</td>\n    </tr>\n    <tr>\n      <th>40</th>\n      <td>Kacper</td>\n      <td>Michalak</td>\n      <td>e</td>\n      <td>2019-06-03</td>\n      <td>57</td>\n      <td>29</td>\n      <td>28</td>\n    </tr>\n    <tr>\n      <th>43</th>\n      <td>Daniel</td>\n      <td>Nowakowski</td>\n      <td>k</td>\n      <td>2018-04-23</td>\n      <td>54</td>\n      <td>27</td>\n      <td>27</td>\n    </tr>\n    <tr>\n      <th>45</th>\n      <td>Bartosz</td>\n      <td>Pajka</td>\n      <td>k</td>\n      <td>2018-04-23</td>\n      <td>36</td>\n      <td>22</td>\n      <td>14</td>\n    </tr>\n    <tr>\n      <th>47</th>\n      <td>Damian</td>\n      <td>Pawłowski</td>\n      <td>e</td>\n      <td>2018-04-23</td>\n      <td>61</td>\n      <td>32</td>\n      <td>29</td>\n    </tr>\n    <tr>\n      <th>48</th>\n      <td>Klaudiusz</td>\n      <td>Pisarski</td>\n      <td>k</td>\n      <td>2019-06-03</td>\n      <td>53</td>\n      <td>26</td>\n      <td>27</td>\n    </tr>\n    <tr>\n      <th>50</th>\n      <td>Marcin</td>\n      <td>Pławik</td>\n      <td>k</td>\n      <td>2019-06-03</td>\n      <td>55</td>\n      <td>28</td>\n      <td>27</td>\n    </tr>\n    <tr>\n      <th>52</th>\n      <td>Michał</td>\n      <td>Różanka</td>\n      <td>e</td>\n      <td>2019-06-03</td>\n      <td>46</td>\n      <td>24</td>\n      <td>22</td>\n    </tr>\n    <tr>\n      <th>55</th>\n      <td>Antoni</td>\n      <td>Sławek</td>\n      <td>e</td>\n      <td>2020-02-28</td>\n      <td>54</td>\n      <td>22</td>\n      <td>32</td>\n    </tr>\n    <tr>\n      <th>57</th>\n      <td>Robert</td>\n      <td>Smolski</td>\n      <td>e</td>\n      <td>2020-01-28</td>\n      <td>42</td>\n      <td>21</td>\n      <td>21</td>\n    </tr>\n    <tr>\n      <th>59</th>\n      <td>Patryk</td>\n      <td>Śledziewski</td>\n      <td>e</td>\n      <td>2018-04-23</td>\n      <td>46</td>\n      <td>26</td>\n      <td>20</td>\n    </tr>\n    <tr>\n      <th>61</th>\n      <td>Krzysztof</td>\n      <td>Wasilewski</td>\n      <td>k</td>\n      <td>2018-04-23</td>\n      <td>55</td>\n      <td>28</td>\n      <td>27</td>\n    </tr>\n    <tr>\n      <th>63</th>\n      <td>Aleks</td>\n      <td>Watkins</td>\n      <td>e</td>\n      <td>2020-01-10</td>\n      <td>34</td>\n      <td>19</td>\n      <td>15</td>\n    </tr>\n    <tr>\n      <th>65</th>\n      <td>Jakub</td>\n      <td>Zemlich</td>\n      <td>e</td>\n      <td>2020-01-28</td>\n      <td>37</td>\n      <td>18</td>\n      <td>19</td>\n    </tr>\n    <tr>\n      <th>67</th>\n      <td>Mateusz</td>\n      <td>Żarski</td>\n      <td>e</td>\n      <td>2020-01-28</td>\n      <td>50</td>\n      <td>22</td>\n      <td>28</td>\n    </tr>\n  </tbody>\n</table>\n</div>"
     },
     "execution_count": 72,
     "metadata": {},
     "output_type": "execute_result"
    }
   ],
   "source": [
    "df_second"
   ],
   "metadata": {
    "collapsed": false,
    "pycharm": {
     "name": "#%%\n"
    }
   }
  },
  {
   "cell_type": "code",
   "execution_count": 71,
   "outputs": [],
   "source": [
    "pyreadstat.write_sav(df_first, 'D:\\\\pythonProject\\\\kns1.sav')\n",
    "pyreadstat.write_sav(df_second, 'D:\\\\pythonProject\\\\kns2.sav')\n"
   ],
   "metadata": {
    "collapsed": false,
    "pycharm": {
     "name": "#%%\n"
    }
   }
  }
 ],
 "metadata": {
  "kernelspec": {
   "display_name": "Python 3 (ipykernel)",
   "language": "python",
   "name": "python3"
  },
  "language_info": {
   "codemirror_mode": {
    "name": "ipython",
    "version": 3
   },
   "file_extension": ".py",
   "mimetype": "text/x-python",
   "name": "python",
   "nbconvert_exporter": "python",
   "pygments_lexer": "ipython3",
   "version": "3.10.0"
  }
 },
 "nbformat": 4,
 "nbformat_minor": 5
}