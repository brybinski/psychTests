{
 "cells": [
  {
   "cell_type": "code",
   "execution_count": 1,
   "id": "5731d603-9463-4129-afe1-6db4b021f8ae",
   "metadata": {},
   "outputs": [],
   "source": []
  },
  {
   "cell_type": "code",
   "execution_count": 2,
   "id": "da9a144a-b471-4496-a7db-225e2c04e41b",
   "metadata": {},
   "outputs": [],
   "source": [
    "import pandas as pd\n",
    "import numpy as np\n",
    "import seaborn as sb\n",
    "import openpyxl\n",
    "import datetime as dt\n",
    "import matplotlib as plt"
   ]
  },
  {
   "cell_type": "code",
   "execution_count": 3,
   "id": "cd0a7139-e8d6-449f-9755-c8e4c36ca81e",
   "metadata": {},
   "outputs": [],
   "source": [
    "kks: pd.DataFrame = pd.read_excel(\"D:\\\\pythonProject\\\\KKS.xlsx\", sheet_name=\"Sheet1\")"
   ]
  },
  {
   "cell_type": "code",
   "execution_count": 3,
   "outputs": [],
   "source": [],
   "metadata": {
    "collapsed": false,
    "pycharm": {
     "name": "#%%\n"
    }
   }
  },
  {
   "cell_type": "code",
   "execution_count": 4,
   "outputs": [
    {
     "data": {
      "text/plain": "   first_name    last_name group       data   I  ES   A  result  sten_I  \\\n0     Serafin   Białkowski     e 2019-06-03  50  45  56     151       8   \n1     Serafin   Białkowski     e 2019-01-10  47  40  41     128       7   \n2    Grzegorz  Chmielewski     e 2019-10-08  56  58  63     177       9   \n3    Grzegorz  Chmielewski     e 2020-01-28  52  57  53     162       8   \n4      Patryk    Chojnacki     e 2019-10-08  37  43  53     133       4   \n5      Patryk    Chojnacki     e 2020-01-28  46  42  52     140       7   \n6      Damian        Gawin     e 2019-06-03  45  49  52     146       6   \n7      Damian        Gawin     e 2020-02-28  51  58  53     162       8   \n8      Kacper      Gładysz     e 2018-02-22  49  55  48     152       8   \n9      Kacper      Gładysz     e 2020-02-28  42  55  50     147       6   \n10  Krzysztof     Kowalski     e 2019-10-08  48  60  52     160       7   \n11  Krzysztof     Kowalski     e 2020-01-28  44  56  54     154       6   \n12     Ernest     Krawczyk     e 2019-10-08  43  53  46     142       6   \n13     Ernest     Krawczyk     e 2020-01-28  37  52  46     135       4   \n14     Patryk      Matecki     e 2019-10-08  35  43  47     125       3   \n15     Patryk      Matecki     e 2019-01-10  42  58  50     150       6   \n16     Kacper     Michalak     e 2019-06-03  53  58  52     163       9   \n17     Kacper     Michalak     e 2019-01-10  50  56  57     163       8   \n18     Michał      Różanka     e 2019-06-03  41  49  42     132       5   \n19     Michał      Różanka     e 2018-02-22  48  51  59     158       7   \n20     Robert      Smolski     e 2019-10-08  41  56  62     159       5   \n21     Robert      Smolski     e 2020-01-28  44  47  52     143       6   \n22      Aleks      Watkins     e 2019-06-03  46  45  45     136       7   \n23      Aleks      Watkins     e 2019-01-10  42  45  42     129       6   \n24      Jakub      Zemlich     e 2019-10-08  44  56  55     155       6   \n25      Jakub      Zemlich     e 2020-01-28  30  35  40     105       2   \n26    Mateusz       Żarski     e 2019-10-08  37  53  63     153       4   \n27    Mateusz       Żarski     e 2020-01-28  42  54  61     157       6   \n\n    sten_ES  sten_A  sten_result              comment  \n0         4       7            4                    0  \n1         2       3            1                  NaN  \n2         7       9            6                    0  \n3         7       6            5                  NaN  \n4         3       6            2                    0  \n5         3       6            2                  NaN  \n6         5       6            3  Dużo luk w KKS-A(M)  \n7         7       6            5                  NaN  \n8         6       5            4                  NaN  \n9         6       5            3                  NaN  \n10        8       6            4                    0  \n11        7       6            4                  NaN  \n12        6       4            3                    0  \n13        5       4            2                  NaN  \n14        3       4            1            Komplet 3  \n15        7       5            3                  NaN  \n16        7       6            5            Komplet 3  \n17        7       7            5                  NaN  \n18        5       3            2     3 brak kns i ses  \n19        5       8            4                  NaN  \n20        7       8            4                    0  \n21        4       6            3                  NaN  \n22        4       4            2                    0  \n23        4       3            2                  NaN  \n24        7       7            4                    0  \n25        1       3            1                  NaN  \n26        6       9            4                    0  \n27        6       8            4                  NaN  ",
      "text/html": "<div>\n<style scoped>\n    .dataframe tbody tr th:only-of-type {\n        vertical-align: middle;\n    }\n\n    .dataframe tbody tr th {\n        vertical-align: top;\n    }\n\n    .dataframe thead th {\n        text-align: right;\n    }\n</style>\n<table border=\"1\" class=\"dataframe\">\n  <thead>\n    <tr style=\"text-align: right;\">\n      <th></th>\n      <th>first_name</th>\n      <th>last_name</th>\n      <th>group</th>\n      <th>data</th>\n      <th>I</th>\n      <th>ES</th>\n      <th>A</th>\n      <th>result</th>\n      <th>sten_I</th>\n      <th>sten_ES</th>\n      <th>sten_A</th>\n      <th>sten_result</th>\n      <th>comment</th>\n    </tr>\n  </thead>\n  <tbody>\n    <tr>\n      <th>0</th>\n      <td>Serafin</td>\n      <td>Białkowski</td>\n      <td>e</td>\n      <td>2019-06-03</td>\n      <td>50</td>\n      <td>45</td>\n      <td>56</td>\n      <td>151</td>\n      <td>8</td>\n      <td>4</td>\n      <td>7</td>\n      <td>4</td>\n      <td>0</td>\n    </tr>\n    <tr>\n      <th>1</th>\n      <td>Serafin</td>\n      <td>Białkowski</td>\n      <td>e</td>\n      <td>2019-01-10</td>\n      <td>47</td>\n      <td>40</td>\n      <td>41</td>\n      <td>128</td>\n      <td>7</td>\n      <td>2</td>\n      <td>3</td>\n      <td>1</td>\n      <td>NaN</td>\n    </tr>\n    <tr>\n      <th>2</th>\n      <td>Grzegorz</td>\n      <td>Chmielewski</td>\n      <td>e</td>\n      <td>2019-10-08</td>\n      <td>56</td>\n      <td>58</td>\n      <td>63</td>\n      <td>177</td>\n      <td>9</td>\n      <td>7</td>\n      <td>9</td>\n      <td>6</td>\n      <td>0</td>\n    </tr>\n    <tr>\n      <th>3</th>\n      <td>Grzegorz</td>\n      <td>Chmielewski</td>\n      <td>e</td>\n      <td>2020-01-28</td>\n      <td>52</td>\n      <td>57</td>\n      <td>53</td>\n      <td>162</td>\n      <td>8</td>\n      <td>7</td>\n      <td>6</td>\n      <td>5</td>\n      <td>NaN</td>\n    </tr>\n    <tr>\n      <th>4</th>\n      <td>Patryk</td>\n      <td>Chojnacki</td>\n      <td>e</td>\n      <td>2019-10-08</td>\n      <td>37</td>\n      <td>43</td>\n      <td>53</td>\n      <td>133</td>\n      <td>4</td>\n      <td>3</td>\n      <td>6</td>\n      <td>2</td>\n      <td>0</td>\n    </tr>\n    <tr>\n      <th>5</th>\n      <td>Patryk</td>\n      <td>Chojnacki</td>\n      <td>e</td>\n      <td>2020-01-28</td>\n      <td>46</td>\n      <td>42</td>\n      <td>52</td>\n      <td>140</td>\n      <td>7</td>\n      <td>3</td>\n      <td>6</td>\n      <td>2</td>\n      <td>NaN</td>\n    </tr>\n    <tr>\n      <th>6</th>\n      <td>Damian</td>\n      <td>Gawin</td>\n      <td>e</td>\n      <td>2019-06-03</td>\n      <td>45</td>\n      <td>49</td>\n      <td>52</td>\n      <td>146</td>\n      <td>6</td>\n      <td>5</td>\n      <td>6</td>\n      <td>3</td>\n      <td>Dużo luk w KKS-A(M)</td>\n    </tr>\n    <tr>\n      <th>7</th>\n      <td>Damian</td>\n      <td>Gawin</td>\n      <td>e</td>\n      <td>2020-02-28</td>\n      <td>51</td>\n      <td>58</td>\n      <td>53</td>\n      <td>162</td>\n      <td>8</td>\n      <td>7</td>\n      <td>6</td>\n      <td>5</td>\n      <td>NaN</td>\n    </tr>\n    <tr>\n      <th>8</th>\n      <td>Kacper</td>\n      <td>Gładysz</td>\n      <td>e</td>\n      <td>2018-02-22</td>\n      <td>49</td>\n      <td>55</td>\n      <td>48</td>\n      <td>152</td>\n      <td>8</td>\n      <td>6</td>\n      <td>5</td>\n      <td>4</td>\n      <td>NaN</td>\n    </tr>\n    <tr>\n      <th>9</th>\n      <td>Kacper</td>\n      <td>Gładysz</td>\n      <td>e</td>\n      <td>2020-02-28</td>\n      <td>42</td>\n      <td>55</td>\n      <td>50</td>\n      <td>147</td>\n      <td>6</td>\n      <td>6</td>\n      <td>5</td>\n      <td>3</td>\n      <td>NaN</td>\n    </tr>\n    <tr>\n      <th>10</th>\n      <td>Krzysztof</td>\n      <td>Kowalski</td>\n      <td>e</td>\n      <td>2019-10-08</td>\n      <td>48</td>\n      <td>60</td>\n      <td>52</td>\n      <td>160</td>\n      <td>7</td>\n      <td>8</td>\n      <td>6</td>\n      <td>4</td>\n      <td>0</td>\n    </tr>\n    <tr>\n      <th>11</th>\n      <td>Krzysztof</td>\n      <td>Kowalski</td>\n      <td>e</td>\n      <td>2020-01-28</td>\n      <td>44</td>\n      <td>56</td>\n      <td>54</td>\n      <td>154</td>\n      <td>6</td>\n      <td>7</td>\n      <td>6</td>\n      <td>4</td>\n      <td>NaN</td>\n    </tr>\n    <tr>\n      <th>12</th>\n      <td>Ernest</td>\n      <td>Krawczyk</td>\n      <td>e</td>\n      <td>2019-10-08</td>\n      <td>43</td>\n      <td>53</td>\n      <td>46</td>\n      <td>142</td>\n      <td>6</td>\n      <td>6</td>\n      <td>4</td>\n      <td>3</td>\n      <td>0</td>\n    </tr>\n    <tr>\n      <th>13</th>\n      <td>Ernest</td>\n      <td>Krawczyk</td>\n      <td>e</td>\n      <td>2020-01-28</td>\n      <td>37</td>\n      <td>52</td>\n      <td>46</td>\n      <td>135</td>\n      <td>4</td>\n      <td>5</td>\n      <td>4</td>\n      <td>2</td>\n      <td>NaN</td>\n    </tr>\n    <tr>\n      <th>14</th>\n      <td>Patryk</td>\n      <td>Matecki</td>\n      <td>e</td>\n      <td>2019-10-08</td>\n      <td>35</td>\n      <td>43</td>\n      <td>47</td>\n      <td>125</td>\n      <td>3</td>\n      <td>3</td>\n      <td>4</td>\n      <td>1</td>\n      <td>Komplet 3</td>\n    </tr>\n    <tr>\n      <th>15</th>\n      <td>Patryk</td>\n      <td>Matecki</td>\n      <td>e</td>\n      <td>2019-01-10</td>\n      <td>42</td>\n      <td>58</td>\n      <td>50</td>\n      <td>150</td>\n      <td>6</td>\n      <td>7</td>\n      <td>5</td>\n      <td>3</td>\n      <td>NaN</td>\n    </tr>\n    <tr>\n      <th>16</th>\n      <td>Kacper</td>\n      <td>Michalak</td>\n      <td>e</td>\n      <td>2019-06-03</td>\n      <td>53</td>\n      <td>58</td>\n      <td>52</td>\n      <td>163</td>\n      <td>9</td>\n      <td>7</td>\n      <td>6</td>\n      <td>5</td>\n      <td>Komplet 3</td>\n    </tr>\n    <tr>\n      <th>17</th>\n      <td>Kacper</td>\n      <td>Michalak</td>\n      <td>e</td>\n      <td>2019-01-10</td>\n      <td>50</td>\n      <td>56</td>\n      <td>57</td>\n      <td>163</td>\n      <td>8</td>\n      <td>7</td>\n      <td>7</td>\n      <td>5</td>\n      <td>NaN</td>\n    </tr>\n    <tr>\n      <th>18</th>\n      <td>Michał</td>\n      <td>Różanka</td>\n      <td>e</td>\n      <td>2019-06-03</td>\n      <td>41</td>\n      <td>49</td>\n      <td>42</td>\n      <td>132</td>\n      <td>5</td>\n      <td>5</td>\n      <td>3</td>\n      <td>2</td>\n      <td>3 brak kns i ses</td>\n    </tr>\n    <tr>\n      <th>19</th>\n      <td>Michał</td>\n      <td>Różanka</td>\n      <td>e</td>\n      <td>2018-02-22</td>\n      <td>48</td>\n      <td>51</td>\n      <td>59</td>\n      <td>158</td>\n      <td>7</td>\n      <td>5</td>\n      <td>8</td>\n      <td>4</td>\n      <td>NaN</td>\n    </tr>\n    <tr>\n      <th>20</th>\n      <td>Robert</td>\n      <td>Smolski</td>\n      <td>e</td>\n      <td>2019-10-08</td>\n      <td>41</td>\n      <td>56</td>\n      <td>62</td>\n      <td>159</td>\n      <td>5</td>\n      <td>7</td>\n      <td>8</td>\n      <td>4</td>\n      <td>0</td>\n    </tr>\n    <tr>\n      <th>21</th>\n      <td>Robert</td>\n      <td>Smolski</td>\n      <td>e</td>\n      <td>2020-01-28</td>\n      <td>44</td>\n      <td>47</td>\n      <td>52</td>\n      <td>143</td>\n      <td>6</td>\n      <td>4</td>\n      <td>6</td>\n      <td>3</td>\n      <td>NaN</td>\n    </tr>\n    <tr>\n      <th>22</th>\n      <td>Aleks</td>\n      <td>Watkins</td>\n      <td>e</td>\n      <td>2019-06-03</td>\n      <td>46</td>\n      <td>45</td>\n      <td>45</td>\n      <td>136</td>\n      <td>7</td>\n      <td>4</td>\n      <td>4</td>\n      <td>2</td>\n      <td>0</td>\n    </tr>\n    <tr>\n      <th>23</th>\n      <td>Aleks</td>\n      <td>Watkins</td>\n      <td>e</td>\n      <td>2019-01-10</td>\n      <td>42</td>\n      <td>45</td>\n      <td>42</td>\n      <td>129</td>\n      <td>6</td>\n      <td>4</td>\n      <td>3</td>\n      <td>2</td>\n      <td>NaN</td>\n    </tr>\n    <tr>\n      <th>24</th>\n      <td>Jakub</td>\n      <td>Zemlich</td>\n      <td>e</td>\n      <td>2019-10-08</td>\n      <td>44</td>\n      <td>56</td>\n      <td>55</td>\n      <td>155</td>\n      <td>6</td>\n      <td>7</td>\n      <td>7</td>\n      <td>4</td>\n      <td>0</td>\n    </tr>\n    <tr>\n      <th>25</th>\n      <td>Jakub</td>\n      <td>Zemlich</td>\n      <td>e</td>\n      <td>2020-01-28</td>\n      <td>30</td>\n      <td>35</td>\n      <td>40</td>\n      <td>105</td>\n      <td>2</td>\n      <td>1</td>\n      <td>3</td>\n      <td>1</td>\n      <td>NaN</td>\n    </tr>\n    <tr>\n      <th>26</th>\n      <td>Mateusz</td>\n      <td>Żarski</td>\n      <td>e</td>\n      <td>2019-10-08</td>\n      <td>37</td>\n      <td>53</td>\n      <td>63</td>\n      <td>153</td>\n      <td>4</td>\n      <td>6</td>\n      <td>9</td>\n      <td>4</td>\n      <td>0</td>\n    </tr>\n    <tr>\n      <th>27</th>\n      <td>Mateusz</td>\n      <td>Żarski</td>\n      <td>e</td>\n      <td>2020-01-28</td>\n      <td>42</td>\n      <td>54</td>\n      <td>61</td>\n      <td>157</td>\n      <td>6</td>\n      <td>6</td>\n      <td>8</td>\n      <td>4</td>\n      <td>NaN</td>\n    </tr>\n  </tbody>\n</table>\n</div>"
     },
     "execution_count": 4,
     "metadata": {},
     "output_type": "execute_result"
    }
   ],
   "source": [
    "kks"
   ],
   "metadata": {
    "collapsed": false,
    "pycharm": {
     "name": "#%%\n"
    }
   }
  },
  {
   "cell_type": "code",
   "execution_count": 5,
   "outputs": [
    {
     "data": {
      "text/plain": "   first_name    last_name group       data   I  ES   A  result  sten_I  \\\n0     Serafin   Białkowski     e 2019-06-03  50  45  56     151       8   \n1     Serafin   Białkowski     e 2019-01-10  47  40  41     128       7   \n2    Grzegorz  Chmielewski     e 2019-10-08  56  58  63     177       9   \n3    Grzegorz  Chmielewski     e 2020-01-28  52  57  53     162       8   \n4      Patryk    Chojnacki     e 2019-10-08  37  43  53     133       4   \n5      Patryk    Chojnacki     e 2020-01-28  46  42  52     140       7   \n6      Damian        Gawin     e 2019-06-03  45  49  52     146       6   \n7      Damian        Gawin     e 2020-02-28  51  58  53     162       8   \n8      Kacper      Gładysz     e 2018-02-22  49  55  48     152       8   \n9      Kacper      Gładysz     e 2020-02-28  42  55  50     147       6   \n10  Krzysztof     Kowalski     e 2019-10-08  48  60  52     160       7   \n11  Krzysztof     Kowalski     e 2020-01-28  44  56  54     154       6   \n12     Ernest     Krawczyk     e 2019-10-08  43  53  46     142       6   \n13     Ernest     Krawczyk     e 2020-01-28  37  52  46     135       4   \n14     Patryk      Matecki     e 2019-10-08  35  43  47     125       3   \n15     Patryk      Matecki     e 2019-01-10  42  58  50     150       6   \n16     Kacper     Michalak     e 2019-06-03  53  58  52     163       9   \n17     Kacper     Michalak     e 2019-01-10  50  56  57     163       8   \n18     Michał      Różanka     e 2019-06-03  41  49  42     132       5   \n19     Michał      Różanka     e 2018-02-22  48  51  59     158       7   \n20     Robert      Smolski     e 2019-10-08  41  56  62     159       5   \n21     Robert      Smolski     e 2020-01-28  44  47  52     143       6   \n22      Aleks      Watkins     e 2019-06-03  46  45  45     136       7   \n23      Aleks      Watkins     e 2019-01-10  42  45  42     129       6   \n24      Jakub      Zemlich     e 2019-10-08  44  56  55     155       6   \n25      Jakub      Zemlich     e 2020-01-28  30  35  40     105       2   \n26    Mateusz       Żarski     e 2019-10-08  37  53  63     153       4   \n27    Mateusz       Żarski     e 2020-01-28  42  54  61     157       6   \n\n    sten_ES  sten_A  sten_result              comment  \n0         4       7            4                    0  \n1         2       3            1                  NaN  \n2         7       9            6                    0  \n3         7       6            5                  NaN  \n4         3       6            2                    0  \n5         3       6            2                  NaN  \n6         5       6            3  Dużo luk w KKS-A(M)  \n7         7       6            5                  NaN  \n8         6       5            4                  NaN  \n9         6       5            3                  NaN  \n10        8       6            4                    0  \n11        7       6            4                  NaN  \n12        6       4            3                    0  \n13        5       4            2                  NaN  \n14        3       4            1            Komplet 3  \n15        7       5            3                  NaN  \n16        7       6            5            Komplet 3  \n17        7       7            5                  NaN  \n18        5       3            2     3 brak kns i ses  \n19        5       8            4                  NaN  \n20        7       8            4                    0  \n21        4       6            3                  NaN  \n22        4       4            2                    0  \n23        4       3            2                  NaN  \n24        7       7            4                    0  \n25        1       3            1                  NaN  \n26        6       9            4                    0  \n27        6       8            4                  NaN  ",
      "text/html": "<div>\n<style scoped>\n    .dataframe tbody tr th:only-of-type {\n        vertical-align: middle;\n    }\n\n    .dataframe tbody tr th {\n        vertical-align: top;\n    }\n\n    .dataframe thead th {\n        text-align: right;\n    }\n</style>\n<table border=\"1\" class=\"dataframe\">\n  <thead>\n    <tr style=\"text-align: right;\">\n      <th></th>\n      <th>first_name</th>\n      <th>last_name</th>\n      <th>group</th>\n      <th>data</th>\n      <th>I</th>\n      <th>ES</th>\n      <th>A</th>\n      <th>result</th>\n      <th>sten_I</th>\n      <th>sten_ES</th>\n      <th>sten_A</th>\n      <th>sten_result</th>\n      <th>comment</th>\n    </tr>\n  </thead>\n  <tbody>\n    <tr>\n      <th>0</th>\n      <td>Serafin</td>\n      <td>Białkowski</td>\n      <td>e</td>\n      <td>2019-06-03</td>\n      <td>50</td>\n      <td>45</td>\n      <td>56</td>\n      <td>151</td>\n      <td>8</td>\n      <td>4</td>\n      <td>7</td>\n      <td>4</td>\n      <td>0</td>\n    </tr>\n    <tr>\n      <th>1</th>\n      <td>Serafin</td>\n      <td>Białkowski</td>\n      <td>e</td>\n      <td>2019-01-10</td>\n      <td>47</td>\n      <td>40</td>\n      <td>41</td>\n      <td>128</td>\n      <td>7</td>\n      <td>2</td>\n      <td>3</td>\n      <td>1</td>\n      <td>NaN</td>\n    </tr>\n    <tr>\n      <th>2</th>\n      <td>Grzegorz</td>\n      <td>Chmielewski</td>\n      <td>e</td>\n      <td>2019-10-08</td>\n      <td>56</td>\n      <td>58</td>\n      <td>63</td>\n      <td>177</td>\n      <td>9</td>\n      <td>7</td>\n      <td>9</td>\n      <td>6</td>\n      <td>0</td>\n    </tr>\n    <tr>\n      <th>3</th>\n      <td>Grzegorz</td>\n      <td>Chmielewski</td>\n      <td>e</td>\n      <td>2020-01-28</td>\n      <td>52</td>\n      <td>57</td>\n      <td>53</td>\n      <td>162</td>\n      <td>8</td>\n      <td>7</td>\n      <td>6</td>\n      <td>5</td>\n      <td>NaN</td>\n    </tr>\n    <tr>\n      <th>4</th>\n      <td>Patryk</td>\n      <td>Chojnacki</td>\n      <td>e</td>\n      <td>2019-10-08</td>\n      <td>37</td>\n      <td>43</td>\n      <td>53</td>\n      <td>133</td>\n      <td>4</td>\n      <td>3</td>\n      <td>6</td>\n      <td>2</td>\n      <td>0</td>\n    </tr>\n    <tr>\n      <th>5</th>\n      <td>Patryk</td>\n      <td>Chojnacki</td>\n      <td>e</td>\n      <td>2020-01-28</td>\n      <td>46</td>\n      <td>42</td>\n      <td>52</td>\n      <td>140</td>\n      <td>7</td>\n      <td>3</td>\n      <td>6</td>\n      <td>2</td>\n      <td>NaN</td>\n    </tr>\n    <tr>\n      <th>6</th>\n      <td>Damian</td>\n      <td>Gawin</td>\n      <td>e</td>\n      <td>2019-06-03</td>\n      <td>45</td>\n      <td>49</td>\n      <td>52</td>\n      <td>146</td>\n      <td>6</td>\n      <td>5</td>\n      <td>6</td>\n      <td>3</td>\n      <td>Dużo luk w KKS-A(M)</td>\n    </tr>\n    <tr>\n      <th>7</th>\n      <td>Damian</td>\n      <td>Gawin</td>\n      <td>e</td>\n      <td>2020-02-28</td>\n      <td>51</td>\n      <td>58</td>\n      <td>53</td>\n      <td>162</td>\n      <td>8</td>\n      <td>7</td>\n      <td>6</td>\n      <td>5</td>\n      <td>NaN</td>\n    </tr>\n    <tr>\n      <th>8</th>\n      <td>Kacper</td>\n      <td>Gładysz</td>\n      <td>e</td>\n      <td>2018-02-22</td>\n      <td>49</td>\n      <td>55</td>\n      <td>48</td>\n      <td>152</td>\n      <td>8</td>\n      <td>6</td>\n      <td>5</td>\n      <td>4</td>\n      <td>NaN</td>\n    </tr>\n    <tr>\n      <th>9</th>\n      <td>Kacper</td>\n      <td>Gładysz</td>\n      <td>e</td>\n      <td>2020-02-28</td>\n      <td>42</td>\n      <td>55</td>\n      <td>50</td>\n      <td>147</td>\n      <td>6</td>\n      <td>6</td>\n      <td>5</td>\n      <td>3</td>\n      <td>NaN</td>\n    </tr>\n    <tr>\n      <th>10</th>\n      <td>Krzysztof</td>\n      <td>Kowalski</td>\n      <td>e</td>\n      <td>2019-10-08</td>\n      <td>48</td>\n      <td>60</td>\n      <td>52</td>\n      <td>160</td>\n      <td>7</td>\n      <td>8</td>\n      <td>6</td>\n      <td>4</td>\n      <td>0</td>\n    </tr>\n    <tr>\n      <th>11</th>\n      <td>Krzysztof</td>\n      <td>Kowalski</td>\n      <td>e</td>\n      <td>2020-01-28</td>\n      <td>44</td>\n      <td>56</td>\n      <td>54</td>\n      <td>154</td>\n      <td>6</td>\n      <td>7</td>\n      <td>6</td>\n      <td>4</td>\n      <td>NaN</td>\n    </tr>\n    <tr>\n      <th>12</th>\n      <td>Ernest</td>\n      <td>Krawczyk</td>\n      <td>e</td>\n      <td>2019-10-08</td>\n      <td>43</td>\n      <td>53</td>\n      <td>46</td>\n      <td>142</td>\n      <td>6</td>\n      <td>6</td>\n      <td>4</td>\n      <td>3</td>\n      <td>0</td>\n    </tr>\n    <tr>\n      <th>13</th>\n      <td>Ernest</td>\n      <td>Krawczyk</td>\n      <td>e</td>\n      <td>2020-01-28</td>\n      <td>37</td>\n      <td>52</td>\n      <td>46</td>\n      <td>135</td>\n      <td>4</td>\n      <td>5</td>\n      <td>4</td>\n      <td>2</td>\n      <td>NaN</td>\n    </tr>\n    <tr>\n      <th>14</th>\n      <td>Patryk</td>\n      <td>Matecki</td>\n      <td>e</td>\n      <td>2019-10-08</td>\n      <td>35</td>\n      <td>43</td>\n      <td>47</td>\n      <td>125</td>\n      <td>3</td>\n      <td>3</td>\n      <td>4</td>\n      <td>1</td>\n      <td>Komplet 3</td>\n    </tr>\n    <tr>\n      <th>15</th>\n      <td>Patryk</td>\n      <td>Matecki</td>\n      <td>e</td>\n      <td>2019-01-10</td>\n      <td>42</td>\n      <td>58</td>\n      <td>50</td>\n      <td>150</td>\n      <td>6</td>\n      <td>7</td>\n      <td>5</td>\n      <td>3</td>\n      <td>NaN</td>\n    </tr>\n    <tr>\n      <th>16</th>\n      <td>Kacper</td>\n      <td>Michalak</td>\n      <td>e</td>\n      <td>2019-06-03</td>\n      <td>53</td>\n      <td>58</td>\n      <td>52</td>\n      <td>163</td>\n      <td>9</td>\n      <td>7</td>\n      <td>6</td>\n      <td>5</td>\n      <td>Komplet 3</td>\n    </tr>\n    <tr>\n      <th>17</th>\n      <td>Kacper</td>\n      <td>Michalak</td>\n      <td>e</td>\n      <td>2019-01-10</td>\n      <td>50</td>\n      <td>56</td>\n      <td>57</td>\n      <td>163</td>\n      <td>8</td>\n      <td>7</td>\n      <td>7</td>\n      <td>5</td>\n      <td>NaN</td>\n    </tr>\n    <tr>\n      <th>18</th>\n      <td>Michał</td>\n      <td>Różanka</td>\n      <td>e</td>\n      <td>2019-06-03</td>\n      <td>41</td>\n      <td>49</td>\n      <td>42</td>\n      <td>132</td>\n      <td>5</td>\n      <td>5</td>\n      <td>3</td>\n      <td>2</td>\n      <td>3 brak kns i ses</td>\n    </tr>\n    <tr>\n      <th>19</th>\n      <td>Michał</td>\n      <td>Różanka</td>\n      <td>e</td>\n      <td>2018-02-22</td>\n      <td>48</td>\n      <td>51</td>\n      <td>59</td>\n      <td>158</td>\n      <td>7</td>\n      <td>5</td>\n      <td>8</td>\n      <td>4</td>\n      <td>NaN</td>\n    </tr>\n    <tr>\n      <th>20</th>\n      <td>Robert</td>\n      <td>Smolski</td>\n      <td>e</td>\n      <td>2019-10-08</td>\n      <td>41</td>\n      <td>56</td>\n      <td>62</td>\n      <td>159</td>\n      <td>5</td>\n      <td>7</td>\n      <td>8</td>\n      <td>4</td>\n      <td>0</td>\n    </tr>\n    <tr>\n      <th>21</th>\n      <td>Robert</td>\n      <td>Smolski</td>\n      <td>e</td>\n      <td>2020-01-28</td>\n      <td>44</td>\n      <td>47</td>\n      <td>52</td>\n      <td>143</td>\n      <td>6</td>\n      <td>4</td>\n      <td>6</td>\n      <td>3</td>\n      <td>NaN</td>\n    </tr>\n    <tr>\n      <th>22</th>\n      <td>Aleks</td>\n      <td>Watkins</td>\n      <td>e</td>\n      <td>2019-06-03</td>\n      <td>46</td>\n      <td>45</td>\n      <td>45</td>\n      <td>136</td>\n      <td>7</td>\n      <td>4</td>\n      <td>4</td>\n      <td>2</td>\n      <td>0</td>\n    </tr>\n    <tr>\n      <th>23</th>\n      <td>Aleks</td>\n      <td>Watkins</td>\n      <td>e</td>\n      <td>2019-01-10</td>\n      <td>42</td>\n      <td>45</td>\n      <td>42</td>\n      <td>129</td>\n      <td>6</td>\n      <td>4</td>\n      <td>3</td>\n      <td>2</td>\n      <td>NaN</td>\n    </tr>\n    <tr>\n      <th>24</th>\n      <td>Jakub</td>\n      <td>Zemlich</td>\n      <td>e</td>\n      <td>2019-10-08</td>\n      <td>44</td>\n      <td>56</td>\n      <td>55</td>\n      <td>155</td>\n      <td>6</td>\n      <td>7</td>\n      <td>7</td>\n      <td>4</td>\n      <td>0</td>\n    </tr>\n    <tr>\n      <th>25</th>\n      <td>Jakub</td>\n      <td>Zemlich</td>\n      <td>e</td>\n      <td>2020-01-28</td>\n      <td>30</td>\n      <td>35</td>\n      <td>40</td>\n      <td>105</td>\n      <td>2</td>\n      <td>1</td>\n      <td>3</td>\n      <td>1</td>\n      <td>NaN</td>\n    </tr>\n    <tr>\n      <th>26</th>\n      <td>Mateusz</td>\n      <td>Żarski</td>\n      <td>e</td>\n      <td>2019-10-08</td>\n      <td>37</td>\n      <td>53</td>\n      <td>63</td>\n      <td>153</td>\n      <td>4</td>\n      <td>6</td>\n      <td>9</td>\n      <td>4</td>\n      <td>0</td>\n    </tr>\n    <tr>\n      <th>27</th>\n      <td>Mateusz</td>\n      <td>Żarski</td>\n      <td>e</td>\n      <td>2020-01-28</td>\n      <td>42</td>\n      <td>54</td>\n      <td>61</td>\n      <td>157</td>\n      <td>6</td>\n      <td>6</td>\n      <td>8</td>\n      <td>4</td>\n      <td>NaN</td>\n    </tr>\n  </tbody>\n</table>\n</div>"
     },
     "execution_count": 5,
     "metadata": {},
     "output_type": "execute_result"
    }
   ],
   "source": [
    "toDrop = []\n",
    "for i, row in kks.iterrows():\n",
    "    if row['last_name'] in ['Kazimierczuk', 'Kędzierski', 'Kochniak']:\n",
    "       toDrop.append(i)\n",
    "\n",
    "\n",
    "kks.drop(labels=toDrop)\n",
    "kks"
   ],
   "metadata": {
    "collapsed": false,
    "pycharm": {
     "name": "#%%\n"
    }
   }
  },
  {
   "cell_type": "code",
   "execution_count": 6,
   "id": "2613e125-f3dc-4719-a604-db771f63a666",
   "metadata": {},
   "outputs": [
    {
     "name": "stdout",
     "output_type": "stream",
     "text": [
      "Białkowski\n",
      "Białkowski\n",
      "Chmielewski\n",
      "Chmielewski\n",
      "Chojnacki\n",
      "Chojnacki\n",
      "Gawin\n",
      "Gawin\n",
      "Gładysz\n",
      "Gładysz\n",
      "Kowalski\n",
      "Kowalski\n",
      "Krawczyk\n",
      "Krawczyk\n",
      "Matecki\n",
      "Matecki\n",
      "Michalak\n",
      "Michalak\n",
      "Różanka\n",
      "Różanka\n",
      "Smolski\n",
      "Smolski\n",
      "Watkins\n",
      "Watkins\n",
      "Zemlich\n",
      "Zemlich\n",
      "Żarski\n",
      "Żarski\n"
     ]
    }
   ],
   "source": [
    "\n",
    "lst1 = []\n",
    "lst2 = []\n",
    "for row, i in kks.iterrows():\n",
    "    b = True\n",
    "    for j in lst1:\n",
    "        if i['first_name'] == j['first_name'] and i['last_name'] == j['last_name']:\n",
    "            b = False\n",
    "\n",
    "    print(i['last_name'])\n",
    "    if b:\n",
    "        lst1.append(i)\n",
    "    else:\n",
    "        lst2.append(i)"
   ]
  },
  {
   "cell_type": "code",
   "execution_count": 7,
   "id": "19908f32-3590-4b6b-bf94-3e20323d44c1",
   "metadata": {},
   "outputs": [],
   "source": [
    "\n",
    "srt1 = []\n",
    "srt2 = []\n",
    "\n",
    "#should have made id for each them, it is not very large group so I didnt bother\n",
    "for i in range(len(lst1)):\n",
    "    for j in range(len(lst2)):\n",
    "        if lst1[i]['last_name'] == lst2[j]['last_name']:\n",
    "            if (lst1[i])['data'] < (lst2[j])['data']:\n",
    "                srt1.append(lst1[i])\n",
    "                srt2.append(lst2[j])\n",
    "            else:\n",
    "                srt1.append(lst2[j])\n",
    "                srt2.append(lst1[i])\n",
    "\n",
    "df_first = pd.DataFrame(srt1)\n",
    "df_second = pd.DataFrame(srt2)"
   ]
  },
  {
   "cell_type": "code",
   "execution_count": 8,
   "outputs": [
    {
     "data": {
      "text/plain": "   first_name    last_name group       data   I  ES   A  result  sten_I  \\\n1     Serafin   Białkowski     e 2019-01-10  47  40  41     128       7   \n2    Grzegorz  Chmielewski     e 2019-10-08  56  58  63     177       9   \n4      Patryk    Chojnacki     e 2019-10-08  37  43  53     133       4   \n6      Damian        Gawin     e 2019-06-03  45  49  52     146       6   \n8      Kacper      Gładysz     e 2018-02-22  49  55  48     152       8   \n10  Krzysztof     Kowalski     e 2019-10-08  48  60  52     160       7   \n12     Ernest     Krawczyk     e 2019-10-08  43  53  46     142       6   \n15     Patryk      Matecki     e 2019-01-10  42  58  50     150       6   \n17     Kacper     Michalak     e 2019-01-10  50  56  57     163       8   \n19     Michał      Różanka     e 2018-02-22  48  51  59     158       7   \n20     Robert      Smolski     e 2019-10-08  41  56  62     159       5   \n23      Aleks      Watkins     e 2019-01-10  42  45  42     129       6   \n24      Jakub      Zemlich     e 2019-10-08  44  56  55     155       6   \n26    Mateusz       Żarski     e 2019-10-08  37  53  63     153       4   \n\n    sten_ES  sten_A  sten_result              comment  \n1         2       3            1                  NaN  \n2         7       9            6                    0  \n4         3       6            2                    0  \n6         5       6            3  Dużo luk w KKS-A(M)  \n8         6       5            4                  NaN  \n10        8       6            4                    0  \n12        6       4            3                    0  \n15        7       5            3                  NaN  \n17        7       7            5                  NaN  \n19        5       8            4                  NaN  \n20        7       8            4                    0  \n23        4       3            2                  NaN  \n24        7       7            4                    0  \n26        6       9            4                    0  ",
      "text/html": "<div>\n<style scoped>\n    .dataframe tbody tr th:only-of-type {\n        vertical-align: middle;\n    }\n\n    .dataframe tbody tr th {\n        vertical-align: top;\n    }\n\n    .dataframe thead th {\n        text-align: right;\n    }\n</style>\n<table border=\"1\" class=\"dataframe\">\n  <thead>\n    <tr style=\"text-align: right;\">\n      <th></th>\n      <th>first_name</th>\n      <th>last_name</th>\n      <th>group</th>\n      <th>data</th>\n      <th>I</th>\n      <th>ES</th>\n      <th>A</th>\n      <th>result</th>\n      <th>sten_I</th>\n      <th>sten_ES</th>\n      <th>sten_A</th>\n      <th>sten_result</th>\n      <th>comment</th>\n    </tr>\n  </thead>\n  <tbody>\n    <tr>\n      <th>1</th>\n      <td>Serafin</td>\n      <td>Białkowski</td>\n      <td>e</td>\n      <td>2019-01-10</td>\n      <td>47</td>\n      <td>40</td>\n      <td>41</td>\n      <td>128</td>\n      <td>7</td>\n      <td>2</td>\n      <td>3</td>\n      <td>1</td>\n      <td>NaN</td>\n    </tr>\n    <tr>\n      <th>2</th>\n      <td>Grzegorz</td>\n      <td>Chmielewski</td>\n      <td>e</td>\n      <td>2019-10-08</td>\n      <td>56</td>\n      <td>58</td>\n      <td>63</td>\n      <td>177</td>\n      <td>9</td>\n      <td>7</td>\n      <td>9</td>\n      <td>6</td>\n      <td>0</td>\n    </tr>\n    <tr>\n      <th>4</th>\n      <td>Patryk</td>\n      <td>Chojnacki</td>\n      <td>e</td>\n      <td>2019-10-08</td>\n      <td>37</td>\n      <td>43</td>\n      <td>53</td>\n      <td>133</td>\n      <td>4</td>\n      <td>3</td>\n      <td>6</td>\n      <td>2</td>\n      <td>0</td>\n    </tr>\n    <tr>\n      <th>6</th>\n      <td>Damian</td>\n      <td>Gawin</td>\n      <td>e</td>\n      <td>2019-06-03</td>\n      <td>45</td>\n      <td>49</td>\n      <td>52</td>\n      <td>146</td>\n      <td>6</td>\n      <td>5</td>\n      <td>6</td>\n      <td>3</td>\n      <td>Dużo luk w KKS-A(M)</td>\n    </tr>\n    <tr>\n      <th>8</th>\n      <td>Kacper</td>\n      <td>Gładysz</td>\n      <td>e</td>\n      <td>2018-02-22</td>\n      <td>49</td>\n      <td>55</td>\n      <td>48</td>\n      <td>152</td>\n      <td>8</td>\n      <td>6</td>\n      <td>5</td>\n      <td>4</td>\n      <td>NaN</td>\n    </tr>\n    <tr>\n      <th>10</th>\n      <td>Krzysztof</td>\n      <td>Kowalski</td>\n      <td>e</td>\n      <td>2019-10-08</td>\n      <td>48</td>\n      <td>60</td>\n      <td>52</td>\n      <td>160</td>\n      <td>7</td>\n      <td>8</td>\n      <td>6</td>\n      <td>4</td>\n      <td>0</td>\n    </tr>\n    <tr>\n      <th>12</th>\n      <td>Ernest</td>\n      <td>Krawczyk</td>\n      <td>e</td>\n      <td>2019-10-08</td>\n      <td>43</td>\n      <td>53</td>\n      <td>46</td>\n      <td>142</td>\n      <td>6</td>\n      <td>6</td>\n      <td>4</td>\n      <td>3</td>\n      <td>0</td>\n    </tr>\n    <tr>\n      <th>15</th>\n      <td>Patryk</td>\n      <td>Matecki</td>\n      <td>e</td>\n      <td>2019-01-10</td>\n      <td>42</td>\n      <td>58</td>\n      <td>50</td>\n      <td>150</td>\n      <td>6</td>\n      <td>7</td>\n      <td>5</td>\n      <td>3</td>\n      <td>NaN</td>\n    </tr>\n    <tr>\n      <th>17</th>\n      <td>Kacper</td>\n      <td>Michalak</td>\n      <td>e</td>\n      <td>2019-01-10</td>\n      <td>50</td>\n      <td>56</td>\n      <td>57</td>\n      <td>163</td>\n      <td>8</td>\n      <td>7</td>\n      <td>7</td>\n      <td>5</td>\n      <td>NaN</td>\n    </tr>\n    <tr>\n      <th>19</th>\n      <td>Michał</td>\n      <td>Różanka</td>\n      <td>e</td>\n      <td>2018-02-22</td>\n      <td>48</td>\n      <td>51</td>\n      <td>59</td>\n      <td>158</td>\n      <td>7</td>\n      <td>5</td>\n      <td>8</td>\n      <td>4</td>\n      <td>NaN</td>\n    </tr>\n    <tr>\n      <th>20</th>\n      <td>Robert</td>\n      <td>Smolski</td>\n      <td>e</td>\n      <td>2019-10-08</td>\n      <td>41</td>\n      <td>56</td>\n      <td>62</td>\n      <td>159</td>\n      <td>5</td>\n      <td>7</td>\n      <td>8</td>\n      <td>4</td>\n      <td>0</td>\n    </tr>\n    <tr>\n      <th>23</th>\n      <td>Aleks</td>\n      <td>Watkins</td>\n      <td>e</td>\n      <td>2019-01-10</td>\n      <td>42</td>\n      <td>45</td>\n      <td>42</td>\n      <td>129</td>\n      <td>6</td>\n      <td>4</td>\n      <td>3</td>\n      <td>2</td>\n      <td>NaN</td>\n    </tr>\n    <tr>\n      <th>24</th>\n      <td>Jakub</td>\n      <td>Zemlich</td>\n      <td>e</td>\n      <td>2019-10-08</td>\n      <td>44</td>\n      <td>56</td>\n      <td>55</td>\n      <td>155</td>\n      <td>6</td>\n      <td>7</td>\n      <td>7</td>\n      <td>4</td>\n      <td>0</td>\n    </tr>\n    <tr>\n      <th>26</th>\n      <td>Mateusz</td>\n      <td>Żarski</td>\n      <td>e</td>\n      <td>2019-10-08</td>\n      <td>37</td>\n      <td>53</td>\n      <td>63</td>\n      <td>153</td>\n      <td>4</td>\n      <td>6</td>\n      <td>9</td>\n      <td>4</td>\n      <td>0</td>\n    </tr>\n  </tbody>\n</table>\n</div>"
     },
     "execution_count": 8,
     "metadata": {},
     "output_type": "execute_result"
    }
   ],
   "source": [
    "df_first"
   ],
   "metadata": {
    "collapsed": false,
    "pycharm": {
     "name": "#%%\n"
    }
   }
  },
  {
   "cell_type": "code",
   "execution_count": 9,
   "outputs": [
    {
     "data": {
      "text/plain": "   first_name    last_name group       data   I  ES   A  result  sten_I  \\\n0     Serafin   Białkowski     e 2019-06-03  50  45  56     151       8   \n3    Grzegorz  Chmielewski     e 2020-01-28  52  57  53     162       8   \n5      Patryk    Chojnacki     e 2020-01-28  46  42  52     140       7   \n7      Damian        Gawin     e 2020-02-28  51  58  53     162       8   \n9      Kacper      Gładysz     e 2020-02-28  42  55  50     147       6   \n11  Krzysztof     Kowalski     e 2020-01-28  44  56  54     154       6   \n13     Ernest     Krawczyk     e 2020-01-28  37  52  46     135       4   \n14     Patryk      Matecki     e 2019-10-08  35  43  47     125       3   \n16     Kacper     Michalak     e 2019-06-03  53  58  52     163       9   \n18     Michał      Różanka     e 2019-06-03  41  49  42     132       5   \n21     Robert      Smolski     e 2020-01-28  44  47  52     143       6   \n22      Aleks      Watkins     e 2019-06-03  46  45  45     136       7   \n25      Jakub      Zemlich     e 2020-01-28  30  35  40     105       2   \n27    Mateusz       Żarski     e 2020-01-28  42  54  61     157       6   \n\n    sten_ES  sten_A  sten_result           comment  \n0         4       7            4                 0  \n3         7       6            5               NaN  \n5         3       6            2               NaN  \n7         7       6            5               NaN  \n9         6       5            3               NaN  \n11        7       6            4               NaN  \n13        5       4            2               NaN  \n14        3       4            1         Komplet 3  \n16        7       6            5         Komplet 3  \n18        5       3            2  3 brak kns i ses  \n21        4       6            3               NaN  \n22        4       4            2                 0  \n25        1       3            1               NaN  \n27        6       8            4               NaN  ",
      "text/html": "<div>\n<style scoped>\n    .dataframe tbody tr th:only-of-type {\n        vertical-align: middle;\n    }\n\n    .dataframe tbody tr th {\n        vertical-align: top;\n    }\n\n    .dataframe thead th {\n        text-align: right;\n    }\n</style>\n<table border=\"1\" class=\"dataframe\">\n  <thead>\n    <tr style=\"text-align: right;\">\n      <th></th>\n      <th>first_name</th>\n      <th>last_name</th>\n      <th>group</th>\n      <th>data</th>\n      <th>I</th>\n      <th>ES</th>\n      <th>A</th>\n      <th>result</th>\n      <th>sten_I</th>\n      <th>sten_ES</th>\n      <th>sten_A</th>\n      <th>sten_result</th>\n      <th>comment</th>\n    </tr>\n  </thead>\n  <tbody>\n    <tr>\n      <th>0</th>\n      <td>Serafin</td>\n      <td>Białkowski</td>\n      <td>e</td>\n      <td>2019-06-03</td>\n      <td>50</td>\n      <td>45</td>\n      <td>56</td>\n      <td>151</td>\n      <td>8</td>\n      <td>4</td>\n      <td>7</td>\n      <td>4</td>\n      <td>0</td>\n    </tr>\n    <tr>\n      <th>3</th>\n      <td>Grzegorz</td>\n      <td>Chmielewski</td>\n      <td>e</td>\n      <td>2020-01-28</td>\n      <td>52</td>\n      <td>57</td>\n      <td>53</td>\n      <td>162</td>\n      <td>8</td>\n      <td>7</td>\n      <td>6</td>\n      <td>5</td>\n      <td>NaN</td>\n    </tr>\n    <tr>\n      <th>5</th>\n      <td>Patryk</td>\n      <td>Chojnacki</td>\n      <td>e</td>\n      <td>2020-01-28</td>\n      <td>46</td>\n      <td>42</td>\n      <td>52</td>\n      <td>140</td>\n      <td>7</td>\n      <td>3</td>\n      <td>6</td>\n      <td>2</td>\n      <td>NaN</td>\n    </tr>\n    <tr>\n      <th>7</th>\n      <td>Damian</td>\n      <td>Gawin</td>\n      <td>e</td>\n      <td>2020-02-28</td>\n      <td>51</td>\n      <td>58</td>\n      <td>53</td>\n      <td>162</td>\n      <td>8</td>\n      <td>7</td>\n      <td>6</td>\n      <td>5</td>\n      <td>NaN</td>\n    </tr>\n    <tr>\n      <th>9</th>\n      <td>Kacper</td>\n      <td>Gładysz</td>\n      <td>e</td>\n      <td>2020-02-28</td>\n      <td>42</td>\n      <td>55</td>\n      <td>50</td>\n      <td>147</td>\n      <td>6</td>\n      <td>6</td>\n      <td>5</td>\n      <td>3</td>\n      <td>NaN</td>\n    </tr>\n    <tr>\n      <th>11</th>\n      <td>Krzysztof</td>\n      <td>Kowalski</td>\n      <td>e</td>\n      <td>2020-01-28</td>\n      <td>44</td>\n      <td>56</td>\n      <td>54</td>\n      <td>154</td>\n      <td>6</td>\n      <td>7</td>\n      <td>6</td>\n      <td>4</td>\n      <td>NaN</td>\n    </tr>\n    <tr>\n      <th>13</th>\n      <td>Ernest</td>\n      <td>Krawczyk</td>\n      <td>e</td>\n      <td>2020-01-28</td>\n      <td>37</td>\n      <td>52</td>\n      <td>46</td>\n      <td>135</td>\n      <td>4</td>\n      <td>5</td>\n      <td>4</td>\n      <td>2</td>\n      <td>NaN</td>\n    </tr>\n    <tr>\n      <th>14</th>\n      <td>Patryk</td>\n      <td>Matecki</td>\n      <td>e</td>\n      <td>2019-10-08</td>\n      <td>35</td>\n      <td>43</td>\n      <td>47</td>\n      <td>125</td>\n      <td>3</td>\n      <td>3</td>\n      <td>4</td>\n      <td>1</td>\n      <td>Komplet 3</td>\n    </tr>\n    <tr>\n      <th>16</th>\n      <td>Kacper</td>\n      <td>Michalak</td>\n      <td>e</td>\n      <td>2019-06-03</td>\n      <td>53</td>\n      <td>58</td>\n      <td>52</td>\n      <td>163</td>\n      <td>9</td>\n      <td>7</td>\n      <td>6</td>\n      <td>5</td>\n      <td>Komplet 3</td>\n    </tr>\n    <tr>\n      <th>18</th>\n      <td>Michał</td>\n      <td>Różanka</td>\n      <td>e</td>\n      <td>2019-06-03</td>\n      <td>41</td>\n      <td>49</td>\n      <td>42</td>\n      <td>132</td>\n      <td>5</td>\n      <td>5</td>\n      <td>3</td>\n      <td>2</td>\n      <td>3 brak kns i ses</td>\n    </tr>\n    <tr>\n      <th>21</th>\n      <td>Robert</td>\n      <td>Smolski</td>\n      <td>e</td>\n      <td>2020-01-28</td>\n      <td>44</td>\n      <td>47</td>\n      <td>52</td>\n      <td>143</td>\n      <td>6</td>\n      <td>4</td>\n      <td>6</td>\n      <td>3</td>\n      <td>NaN</td>\n    </tr>\n    <tr>\n      <th>22</th>\n      <td>Aleks</td>\n      <td>Watkins</td>\n      <td>e</td>\n      <td>2019-06-03</td>\n      <td>46</td>\n      <td>45</td>\n      <td>45</td>\n      <td>136</td>\n      <td>7</td>\n      <td>4</td>\n      <td>4</td>\n      <td>2</td>\n      <td>0</td>\n    </tr>\n    <tr>\n      <th>25</th>\n      <td>Jakub</td>\n      <td>Zemlich</td>\n      <td>e</td>\n      <td>2020-01-28</td>\n      <td>30</td>\n      <td>35</td>\n      <td>40</td>\n      <td>105</td>\n      <td>2</td>\n      <td>1</td>\n      <td>3</td>\n      <td>1</td>\n      <td>NaN</td>\n    </tr>\n    <tr>\n      <th>27</th>\n      <td>Mateusz</td>\n      <td>Żarski</td>\n      <td>e</td>\n      <td>2020-01-28</td>\n      <td>42</td>\n      <td>54</td>\n      <td>61</td>\n      <td>157</td>\n      <td>6</td>\n      <td>6</td>\n      <td>8</td>\n      <td>4</td>\n      <td>NaN</td>\n    </tr>\n  </tbody>\n</table>\n</div>"
     },
     "execution_count": 9,
     "metadata": {},
     "output_type": "execute_result"
    }
   ],
   "source": [
    "df_second"
   ],
   "metadata": {
    "collapsed": false,
    "pycharm": {
     "name": "#%%\n"
    }
   }
  },
  {
   "cell_type": "code",
   "execution_count": 10,
   "outputs": [
    {
     "name": "stderr",
     "output_type": "stream",
     "text": [
      "C:\\Users\\barto\\AppData\\Local\\Temp\\ipykernel_22748\\1757501343.py:1: FutureWarning: DataFrame.mean and DataFrame.median with numeric_only=None will include datetime64 and datetime64tz columns in a future version.\n",
      "  mean = pd.DataFrame.mean(df_first)\n",
      "C:\\Users\\barto\\AppData\\Local\\Temp\\ipykernel_22748\\1757501343.py:1: FutureWarning: Dropping of nuisance columns in DataFrame reductions (with 'numeric_only=None') is deprecated; in a future version this will raise TypeError.  Select only valid columns before calling the reduction.\n",
      "  mean = pd.DataFrame.mean(df_first)\n"
     ]
    },
    {
     "data": {
      "text/plain": "I               44.928571\nES              52.357143\nA               53.071429\nresult         150.357143\nsten_I           6.357143\nsten_ES          5.714286\nsten_A           6.142857\nsten_result      3.500000\ndtype: float64"
     },
     "execution_count": 10,
     "metadata": {},
     "output_type": "execute_result"
    }
   ],
   "source": [
    "mean = pd.DataFrame.mean(df_first)\n",
    "mean"
   ],
   "metadata": {
    "collapsed": false,
    "pycharm": {
     "name": "#%%\n"
    }
   }
  },
  {
   "cell_type": "code",
   "execution_count": 11,
   "outputs": [
    {
     "name": "stderr",
     "output_type": "stream",
     "text": [
      "C:\\Users\\barto\\AppData\\Local\\Temp\\ipykernel_22748\\4172884222.py:1: FutureWarning: DataFrame.mean and DataFrame.median with numeric_only=None will include datetime64 and datetime64tz columns in a future version.\n",
      "  mean2 = pd.DataFrame.mean(df_second)\n",
      "C:\\Users\\barto\\AppData\\Local\\Temp\\ipykernel_22748\\4172884222.py:1: FutureWarning: Dropping of nuisance columns in DataFrame reductions (with 'numeric_only=None') is deprecated; in a future version this will raise TypeError.  Select only valid columns before calling the reduction.\n",
      "  mean2 = pd.DataFrame.mean(df_second)\n"
     ]
    },
    {
     "data": {
      "text/plain": "I               43.785714\nES              49.714286\nA               50.214286\nresult         143.714286\nsten_I           6.071429\nsten_ES          4.928571\nsten_A           5.285714\nsten_result      3.071429\ndtype: float64"
     },
     "execution_count": 11,
     "metadata": {},
     "output_type": "execute_result"
    }
   ],
   "source": [
    "mean2 = pd.DataFrame.mean(df_second)\n",
    "mean2\n"
   ],
   "metadata": {
    "collapsed": false,
    "pycharm": {
     "name": "#%%\n"
    }
   }
  },
  {
   "cell_type": "code",
   "execution_count": 11,
   "outputs": [],
   "source": [],
   "metadata": {
    "collapsed": false,
    "pycharm": {
     "name": "#%%\n"
    }
   }
  }
 ],
 "metadata": {
  "kernelspec": {
   "display_name": "Python 3 (ipykernel)",
   "language": "python",
   "name": "python3"
  },
  "language_info": {
   "codemirror_mode": {
    "name": "ipython",
    "version": 3
   },
   "file_extension": ".py",
   "mimetype": "text/x-python",
   "name": "python",
   "nbconvert_exporter": "python",
   "pygments_lexer": "ipython3",
   "version": "3.10.0"
  }
 },
 "nbformat": 4,
 "nbformat_minor": 5
}