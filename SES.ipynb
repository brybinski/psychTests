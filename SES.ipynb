{
 "cells": [
  {
   "cell_type": "code",
   "execution_count": 60,
   "id": "da9a144a-b471-4496-a7db-225e2c04e41b",
   "metadata": {},
   "outputs": [],
   "source": [
    "import pandas as pd\n",
    "import numpy as np\n",
    "import seaborn as sb\n",
    "import openpyxl\n",
    "import datetime as dt\n",
    "import matplotlib as plt\n",
    "import pyreadstat"
   ]
  },
  {
   "cell_type": "code",
   "execution_count": 61,
   "outputs": [
    {
     "name": "stdout",
     "output_type": "stream",
     "text": [
      "Requirement already satisfied: pyreadstat in c:\\users\\barto\\onedrive - university of warmia and mazuria in olsztyn\\mailassign\\venv\\lib\\site-packages (1.1.4)"
     ]
    },
    {
     "name": "stderr",
     "output_type": "stream",
     "text": [
      "WARNING: You are using pip version 21.1.2; however, version 22.0.4 is available.\n",
      "You should consider upgrading via the 'C:\\Users\\barto\\OneDrive - University of Warmia and Mazuria in Olsztyn\\MailAssign\\venv\\Scripts\\python.exe -m pip install --upgrade pip' command.\n"
     ]
    },
    {
     "name": "stdout",
     "output_type": "stream",
     "text": [
      "\n",
      "Requirement already satisfied: pandas>=1.2.0 in c:\\users\\barto\\onedrive - university of warmia and mazuria in olsztyn\\mailassign\\venv\\lib\\site-packages (from pyreadstat) (1.4.1)\n",
      "Requirement already satisfied: pytz>=2020.1 in c:\\users\\barto\\onedrive - university of warmia and mazuria in olsztyn\\mailassign\\venv\\lib\\site-packages (from pandas>=1.2.0->pyreadstat) (2022.1)\n",
      "Requirement already satisfied: python-dateutil>=2.8.1 in c:\\users\\barto\\onedrive - university of warmia and mazuria in olsztyn\\mailassign\\venv\\lib\\site-packages (from pandas>=1.2.0->pyreadstat) (2.8.2)\n",
      "Requirement already satisfied: numpy>=1.21.0 in c:\\users\\barto\\onedrive - university of warmia and mazuria in olsztyn\\mailassign\\venv\\lib\\site-packages (from pandas>=1.2.0->pyreadstat) (1.21.4)\n",
      "Requirement already satisfied: six>=1.5 in c:\\users\\barto\\onedrive - university of warmia and mazuria in olsztyn\\mailassign\\venv\\lib\\site-packages (from python-dateutil>=2.8.1->pandas>=1.2.0->pyreadstat) (1.16.0)\n"
     ]
    }
   ],
   "source": [
    "!pip install pyreadstat"
   ],
   "metadata": {
    "collapsed": false,
    "pycharm": {
     "name": "#%%\n"
    }
   }
  },
  {
   "cell_type": "code",
   "execution_count": 62,
   "id": "cd0a7139-e8d6-449f-9755-c8e4c36ca81e",
   "metadata": {},
   "outputs": [],
   "source": [
    "ses: pd.DataFrame = pd.read_excel(\"D:\\\\pythonProject\\\\SES.xlsx\", sheet_name=\"Arkusz1\")"
   ]
  },
  {
   "cell_type": "code",
   "execution_count": 63,
   "outputs": [
    {
     "data": {
      "text/plain": "   first_name    last_name group       date  result  \\\n0     Serafin   Białkowski     e 2019-01-10      19   \n1     Serafin   Białkowski     e 2019-06-03      23   \n2       Piotr    Borkowski     k 2018-04-23      22   \n3       Piotr    Borkowski     k 2018-03-08      28   \n4    Grzegorz  Chmielewski     e 2019-10-08      25   \n..        ...          ...   ...        ...     ...   \n63      Aleks      Watkins     e 2019-06-03      25   \n64      Jakub      Zemlich     e 2020-01-28      26   \n65      Jakub      Zemlich     e 2019-10-08      28   \n66    Mateusz       Żarski     e 2019-10-08      32   \n67    Mateusz       Żarski     e 2020-01-28      33   \n\n                                            Komentarz Kolumna1  \n0                                                 NaN        =  \n1                                                   0      NaN  \n2                                                 NaN      NaN  \n3   Wyniki są połączone, brak drugiego kks, daty z...      NaN  \n4                                                   0      NaN  \n..                                                ...      ...  \n63                                                  0      NaN  \n64                                                NaN      NaN  \n65                                                  0      NaN  \n66                                                  0      NaN  \n67                                                NaN      NaN  \n\n[68 rows x 7 columns]",
      "text/html": "<div>\n<style scoped>\n    .dataframe tbody tr th:only-of-type {\n        vertical-align: middle;\n    }\n\n    .dataframe tbody tr th {\n        vertical-align: top;\n    }\n\n    .dataframe thead th {\n        text-align: right;\n    }\n</style>\n<table border=\"1\" class=\"dataframe\">\n  <thead>\n    <tr style=\"text-align: right;\">\n      <th></th>\n      <th>first_name</th>\n      <th>last_name</th>\n      <th>group</th>\n      <th>date</th>\n      <th>result</th>\n      <th>Komentarz</th>\n      <th>Kolumna1</th>\n    </tr>\n  </thead>\n  <tbody>\n    <tr>\n      <th>0</th>\n      <td>Serafin</td>\n      <td>Białkowski</td>\n      <td>e</td>\n      <td>2019-01-10</td>\n      <td>19</td>\n      <td>NaN</td>\n      <td>=</td>\n    </tr>\n    <tr>\n      <th>1</th>\n      <td>Serafin</td>\n      <td>Białkowski</td>\n      <td>e</td>\n      <td>2019-06-03</td>\n      <td>23</td>\n      <td>0</td>\n      <td>NaN</td>\n    </tr>\n    <tr>\n      <th>2</th>\n      <td>Piotr</td>\n      <td>Borkowski</td>\n      <td>k</td>\n      <td>2018-04-23</td>\n      <td>22</td>\n      <td>NaN</td>\n      <td>NaN</td>\n    </tr>\n    <tr>\n      <th>3</th>\n      <td>Piotr</td>\n      <td>Borkowski</td>\n      <td>k</td>\n      <td>2018-03-08</td>\n      <td>28</td>\n      <td>Wyniki są połączone, brak drugiego kks, daty z...</td>\n      <td>NaN</td>\n    </tr>\n    <tr>\n      <th>4</th>\n      <td>Grzegorz</td>\n      <td>Chmielewski</td>\n      <td>e</td>\n      <td>2019-10-08</td>\n      <td>25</td>\n      <td>0</td>\n      <td>NaN</td>\n    </tr>\n    <tr>\n      <th>...</th>\n      <td>...</td>\n      <td>...</td>\n      <td>...</td>\n      <td>...</td>\n      <td>...</td>\n      <td>...</td>\n      <td>...</td>\n    </tr>\n    <tr>\n      <th>63</th>\n      <td>Aleks</td>\n      <td>Watkins</td>\n      <td>e</td>\n      <td>2019-06-03</td>\n      <td>25</td>\n      <td>0</td>\n      <td>NaN</td>\n    </tr>\n    <tr>\n      <th>64</th>\n      <td>Jakub</td>\n      <td>Zemlich</td>\n      <td>e</td>\n      <td>2020-01-28</td>\n      <td>26</td>\n      <td>NaN</td>\n      <td>NaN</td>\n    </tr>\n    <tr>\n      <th>65</th>\n      <td>Jakub</td>\n      <td>Zemlich</td>\n      <td>e</td>\n      <td>2019-10-08</td>\n      <td>28</td>\n      <td>0</td>\n      <td>NaN</td>\n    </tr>\n    <tr>\n      <th>66</th>\n      <td>Mateusz</td>\n      <td>Żarski</td>\n      <td>e</td>\n      <td>2019-10-08</td>\n      <td>32</td>\n      <td>0</td>\n      <td>NaN</td>\n    </tr>\n    <tr>\n      <th>67</th>\n      <td>Mateusz</td>\n      <td>Żarski</td>\n      <td>e</td>\n      <td>2020-01-28</td>\n      <td>33</td>\n      <td>NaN</td>\n      <td>NaN</td>\n    </tr>\n  </tbody>\n</table>\n<p>68 rows × 7 columns</p>\n</div>"
     },
     "execution_count": 63,
     "metadata": {},
     "output_type": "execute_result"
    }
   ],
   "source": [
    "ses.sort_values('last_name')\n",
    "ses"
   ],
   "metadata": {
    "collapsed": false,
    "pycharm": {
     "name": "#%%\n"
    }
   }
  },
  {
   "cell_type": "code",
   "execution_count": 64,
   "id": "2613e125-f3dc-4719-a604-db771f63a666",
   "metadata": {},
   "outputs": [],
   "source": [
    "\n",
    "lst1 = []\n",
    "lst2 = []\n",
    "for i, row in ses.iterrows():\n",
    "    b = True\n",
    "    for j in lst1:\n",
    "        if row['first_name'] == j['first_name'] and row['last_name'] == j['last_name']:\n",
    "            b = False\n",
    "\n",
    "    if b:\n",
    "        lst1.append(row)\n",
    "    else:\n",
    "        lst2.append(row)"
   ]
  },
  {
   "cell_type": "code",
   "execution_count": 65,
   "id": "19908f32-3590-4b6b-bf94-3e20323d44c1",
   "metadata": {},
   "outputs": [],
   "source": [
    "\n",
    "srt1 = []\n",
    "srt2 = []\n",
    "\n",
    "#should have made id for each them, it is not very large group so I didnt bother\n",
    "for i in range(len(lst1)):\n",
    "    for j in range(len(lst2)):\n",
    "        if lst1[i]['last_name'] == lst2[j]['last_name']:\n",
    "            if (lst1[i])['date'] < (lst2[j])['date']:\n",
    "                srt1.append(lst1[i])\n",
    "                srt2.append(lst2[j])\n",
    "            else:\n",
    "                srt1.append(lst2[j])\n",
    "                srt2.append(lst1[i])\n",
    "\n",
    "df_first = pd.DataFrame(srt1)\n",
    "df_second = pd.DataFrame(srt2)"
   ]
  },
  {
   "cell_type": "code",
   "execution_count": 66,
   "outputs": [
    {
     "data": {
      "text/plain": "   first_name     last_name group       date  result  \\\n0     Serafin    Białkowski     e 2019-01-10      19   \n4    Grzegorz   Chmielewski     e 2019-10-08      25   \n7      Patryk     Chojnacki     e 2019-10-08      26   \n10     Damian         Gawin     e 2019-06-03      29   \n12     Kacper       Gładysz     e 2018-03-08      29   \n20      Jakub  Kazimierczuk     e 2018-03-08      30   \n23     Patryk    Kędzierski     e 2019-01-10      31   \n26    Mateusz      Kochniak     e 2019-01-10      18   \n29     Hubert         Kosek     e 2019-06-03      37   \n32  Krzysztof      Kowalski     e 2019-10-08      29   \n35     Hubert   Kozierewicz     e 2018-03-08      35   \n36     Ernest      Krawczyk     e 2019-10-08      25   \n38      Kamil    Kruszyński     e 2018-03-08      28   \n40     Patryk       Matecki     e 2019-01-10      21   \n40     Patryk       Matecki     e 2019-01-10      21   \n43     Kacper      Michalak     e 2019-01-10      35   \n51     Damian     Pawłowski     e 2018-03-08      35   \n57     Michał       Różanka     e 2019-01-10      27   \n59     Robert       Smolski     e 2019-10-08      25   \n60     Patryk   Śledziewski     e 2018-03-08      24   \n62      Aleks       Watkins     e 2019-01-10      24   \n65      Jakub       Zemlich     e 2019-10-08      28   \n66    Mateusz        Żarski     e 2019-10-08      32   \n\n                             Komentarz Kolumna1  \n0                                  NaN        =  \n4                                    0      NaN  \n7                                    0      NaN  \n10                 Dużo luk w KKS-A(M)      NaN  \n12          brak drugiego kks, pilotaż      NaN  \n20  drugi kns wypełniony schematycznie      NaN  \n23                                 NaN      NaN  \n26                                 NaN      NaN  \n29   KKS-A(M) wypełniony schematycznie      NaN  \n32                                   0      NaN  \n35                            brak kks      NaN  \n36                                   0      NaN  \n38                   brak drugiego kks      NaN  \n40                                 NaN      NaN  \n40                                 NaN      NaN  \n43                                 NaN      NaN  \n51                            brak kks      NaN  \n57                                 NaN      NaN  \n59                                   0      NaN  \n60                            brak kks      NaN  \n62                                 NaN      NaN  \n65                                   0      NaN  \n66                                   0      NaN  ",
      "text/html": "<div>\n<style scoped>\n    .dataframe tbody tr th:only-of-type {\n        vertical-align: middle;\n    }\n\n    .dataframe tbody tr th {\n        vertical-align: top;\n    }\n\n    .dataframe thead th {\n        text-align: right;\n    }\n</style>\n<table border=\"1\" class=\"dataframe\">\n  <thead>\n    <tr style=\"text-align: right;\">\n      <th></th>\n      <th>first_name</th>\n      <th>last_name</th>\n      <th>group</th>\n      <th>date</th>\n      <th>result</th>\n      <th>Komentarz</th>\n      <th>Kolumna1</th>\n    </tr>\n  </thead>\n  <tbody>\n    <tr>\n      <th>0</th>\n      <td>Serafin</td>\n      <td>Białkowski</td>\n      <td>e</td>\n      <td>2019-01-10</td>\n      <td>19</td>\n      <td>NaN</td>\n      <td>=</td>\n    </tr>\n    <tr>\n      <th>4</th>\n      <td>Grzegorz</td>\n      <td>Chmielewski</td>\n      <td>e</td>\n      <td>2019-10-08</td>\n      <td>25</td>\n      <td>0</td>\n      <td>NaN</td>\n    </tr>\n    <tr>\n      <th>7</th>\n      <td>Patryk</td>\n      <td>Chojnacki</td>\n      <td>e</td>\n      <td>2019-10-08</td>\n      <td>26</td>\n      <td>0</td>\n      <td>NaN</td>\n    </tr>\n    <tr>\n      <th>10</th>\n      <td>Damian</td>\n      <td>Gawin</td>\n      <td>e</td>\n      <td>2019-06-03</td>\n      <td>29</td>\n      <td>Dużo luk w KKS-A(M)</td>\n      <td>NaN</td>\n    </tr>\n    <tr>\n      <th>12</th>\n      <td>Kacper</td>\n      <td>Gładysz</td>\n      <td>e</td>\n      <td>2018-03-08</td>\n      <td>29</td>\n      <td>brak drugiego kks, pilotaż</td>\n      <td>NaN</td>\n    </tr>\n    <tr>\n      <th>20</th>\n      <td>Jakub</td>\n      <td>Kazimierczuk</td>\n      <td>e</td>\n      <td>2018-03-08</td>\n      <td>30</td>\n      <td>drugi kns wypełniony schematycznie</td>\n      <td>NaN</td>\n    </tr>\n    <tr>\n      <th>23</th>\n      <td>Patryk</td>\n      <td>Kędzierski</td>\n      <td>e</td>\n      <td>2019-01-10</td>\n      <td>31</td>\n      <td>NaN</td>\n      <td>NaN</td>\n    </tr>\n    <tr>\n      <th>26</th>\n      <td>Mateusz</td>\n      <td>Kochniak</td>\n      <td>e</td>\n      <td>2019-01-10</td>\n      <td>18</td>\n      <td>NaN</td>\n      <td>NaN</td>\n    </tr>\n    <tr>\n      <th>29</th>\n      <td>Hubert</td>\n      <td>Kosek</td>\n      <td>e</td>\n      <td>2019-06-03</td>\n      <td>37</td>\n      <td>KKS-A(M) wypełniony schematycznie</td>\n      <td>NaN</td>\n    </tr>\n    <tr>\n      <th>32</th>\n      <td>Krzysztof</td>\n      <td>Kowalski</td>\n      <td>e</td>\n      <td>2019-10-08</td>\n      <td>29</td>\n      <td>0</td>\n      <td>NaN</td>\n    </tr>\n    <tr>\n      <th>35</th>\n      <td>Hubert</td>\n      <td>Kozierewicz</td>\n      <td>e</td>\n      <td>2018-03-08</td>\n      <td>35</td>\n      <td>brak kks</td>\n      <td>NaN</td>\n    </tr>\n    <tr>\n      <th>36</th>\n      <td>Ernest</td>\n      <td>Krawczyk</td>\n      <td>e</td>\n      <td>2019-10-08</td>\n      <td>25</td>\n      <td>0</td>\n      <td>NaN</td>\n    </tr>\n    <tr>\n      <th>38</th>\n      <td>Kamil</td>\n      <td>Kruszyński</td>\n      <td>e</td>\n      <td>2018-03-08</td>\n      <td>28</td>\n      <td>brak drugiego kks</td>\n      <td>NaN</td>\n    </tr>\n    <tr>\n      <th>40</th>\n      <td>Patryk</td>\n      <td>Matecki</td>\n      <td>e</td>\n      <td>2019-01-10</td>\n      <td>21</td>\n      <td>NaN</td>\n      <td>NaN</td>\n    </tr>\n    <tr>\n      <th>40</th>\n      <td>Patryk</td>\n      <td>Matecki</td>\n      <td>e</td>\n      <td>2019-01-10</td>\n      <td>21</td>\n      <td>NaN</td>\n      <td>NaN</td>\n    </tr>\n    <tr>\n      <th>43</th>\n      <td>Kacper</td>\n      <td>Michalak</td>\n      <td>e</td>\n      <td>2019-01-10</td>\n      <td>35</td>\n      <td>NaN</td>\n      <td>NaN</td>\n    </tr>\n    <tr>\n      <th>51</th>\n      <td>Damian</td>\n      <td>Pawłowski</td>\n      <td>e</td>\n      <td>2018-03-08</td>\n      <td>35</td>\n      <td>brak kks</td>\n      <td>NaN</td>\n    </tr>\n    <tr>\n      <th>57</th>\n      <td>Michał</td>\n      <td>Różanka</td>\n      <td>e</td>\n      <td>2019-01-10</td>\n      <td>27</td>\n      <td>NaN</td>\n      <td>NaN</td>\n    </tr>\n    <tr>\n      <th>59</th>\n      <td>Robert</td>\n      <td>Smolski</td>\n      <td>e</td>\n      <td>2019-10-08</td>\n      <td>25</td>\n      <td>0</td>\n      <td>NaN</td>\n    </tr>\n    <tr>\n      <th>60</th>\n      <td>Patryk</td>\n      <td>Śledziewski</td>\n      <td>e</td>\n      <td>2018-03-08</td>\n      <td>24</td>\n      <td>brak kks</td>\n      <td>NaN</td>\n    </tr>\n    <tr>\n      <th>62</th>\n      <td>Aleks</td>\n      <td>Watkins</td>\n      <td>e</td>\n      <td>2019-01-10</td>\n      <td>24</td>\n      <td>NaN</td>\n      <td>NaN</td>\n    </tr>\n    <tr>\n      <th>65</th>\n      <td>Jakub</td>\n      <td>Zemlich</td>\n      <td>e</td>\n      <td>2019-10-08</td>\n      <td>28</td>\n      <td>0</td>\n      <td>NaN</td>\n    </tr>\n    <tr>\n      <th>66</th>\n      <td>Mateusz</td>\n      <td>Żarski</td>\n      <td>e</td>\n      <td>2019-10-08</td>\n      <td>32</td>\n      <td>0</td>\n      <td>NaN</td>\n    </tr>\n  </tbody>\n</table>\n</div>"
     },
     "execution_count": 66,
     "metadata": {},
     "output_type": "execute_result"
    }
   ],
   "source": [
    "df_first_e = df_first.loc[df_first['group']=='e']\n",
    "df_first_e"
   ],
   "metadata": {
    "collapsed": false,
    "pycharm": {
     "name": "#%%\n"
    }
   }
  },
  {
   "cell_type": "code",
   "execution_count": 67,
   "outputs": [
    {
     "data": {
      "text/plain": "    first_name    last_name group       date  result  \\\n3        Piotr    Borkowski     k 2018-03-08      28   \n9   Bartłomiej     Czechera     k 2018-04-23      36   \n15       Filip  Grzejszczak     k 2018-03-08      27   \n16      Kacper     Jagnicki     k 2018-03-08      25   \n19       Jakub     Jaworski     k 2019-06-03      31   \n25      Patryk       Kłusek     k 2018-03-08      25   \n30      Marcel    Kowalczyk     k 2018-03-08      26   \n46      Daniel   Nowakowski     k 2018-03-08      30   \n49     Bartosz        Pajka     k 2018-03-08      33   \n52   Klaudiusz     Pisarski     k 2018-03-08      28   \n54      Marcin       Pławik     k 2018-04-23      25   \n\n                                            Komentarz Kolumna1  \n3   Wyniki są połączone, brak drugiego kks, daty z...      NaN  \n9                                                 NaN      NaN  \n15                                  brak drugiego kks      NaN  \n16         brak kks, kks 3rd wypełniony schematycznie      NaN  \n19  Brak dokładności w wypełnianiu, drugi kks bez ...      NaN  \n25                                           brak kks      NaN  \n30                                                NaN      NaN  \n46                                  brak drugiego kks      NaN  \n49                       Drugi KNS i ses w teczce nr5      NaN  \n52                                                NaN      NaN  \n54                                                NaN      NaN  ",
      "text/html": "<div>\n<style scoped>\n    .dataframe tbody tr th:only-of-type {\n        vertical-align: middle;\n    }\n\n    .dataframe tbody tr th {\n        vertical-align: top;\n    }\n\n    .dataframe thead th {\n        text-align: right;\n    }\n</style>\n<table border=\"1\" class=\"dataframe\">\n  <thead>\n    <tr style=\"text-align: right;\">\n      <th></th>\n      <th>first_name</th>\n      <th>last_name</th>\n      <th>group</th>\n      <th>date</th>\n      <th>result</th>\n      <th>Komentarz</th>\n      <th>Kolumna1</th>\n    </tr>\n  </thead>\n  <tbody>\n    <tr>\n      <th>3</th>\n      <td>Piotr</td>\n      <td>Borkowski</td>\n      <td>k</td>\n      <td>2018-03-08</td>\n      <td>28</td>\n      <td>Wyniki są połączone, brak drugiego kks, daty z...</td>\n      <td>NaN</td>\n    </tr>\n    <tr>\n      <th>9</th>\n      <td>Bartłomiej</td>\n      <td>Czechera</td>\n      <td>k</td>\n      <td>2018-04-23</td>\n      <td>36</td>\n      <td>NaN</td>\n      <td>NaN</td>\n    </tr>\n    <tr>\n      <th>15</th>\n      <td>Filip</td>\n      <td>Grzejszczak</td>\n      <td>k</td>\n      <td>2018-03-08</td>\n      <td>27</td>\n      <td>brak drugiego kks</td>\n      <td>NaN</td>\n    </tr>\n    <tr>\n      <th>16</th>\n      <td>Kacper</td>\n      <td>Jagnicki</td>\n      <td>k</td>\n      <td>2018-03-08</td>\n      <td>25</td>\n      <td>brak kks, kks 3rd wypełniony schematycznie</td>\n      <td>NaN</td>\n    </tr>\n    <tr>\n      <th>19</th>\n      <td>Jakub</td>\n      <td>Jaworski</td>\n      <td>k</td>\n      <td>2019-06-03</td>\n      <td>31</td>\n      <td>Brak dokładności w wypełnianiu, drugi kks bez ...</td>\n      <td>NaN</td>\n    </tr>\n    <tr>\n      <th>25</th>\n      <td>Patryk</td>\n      <td>Kłusek</td>\n      <td>k</td>\n      <td>2018-03-08</td>\n      <td>25</td>\n      <td>brak kks</td>\n      <td>NaN</td>\n    </tr>\n    <tr>\n      <th>30</th>\n      <td>Marcel</td>\n      <td>Kowalczyk</td>\n      <td>k</td>\n      <td>2018-03-08</td>\n      <td>26</td>\n      <td>NaN</td>\n      <td>NaN</td>\n    </tr>\n    <tr>\n      <th>46</th>\n      <td>Daniel</td>\n      <td>Nowakowski</td>\n      <td>k</td>\n      <td>2018-03-08</td>\n      <td>30</td>\n      <td>brak drugiego kks</td>\n      <td>NaN</td>\n    </tr>\n    <tr>\n      <th>49</th>\n      <td>Bartosz</td>\n      <td>Pajka</td>\n      <td>k</td>\n      <td>2018-03-08</td>\n      <td>33</td>\n      <td>Drugi KNS i ses w teczce nr5</td>\n      <td>NaN</td>\n    </tr>\n    <tr>\n      <th>52</th>\n      <td>Klaudiusz</td>\n      <td>Pisarski</td>\n      <td>k</td>\n      <td>2018-03-08</td>\n      <td>28</td>\n      <td>NaN</td>\n      <td>NaN</td>\n    </tr>\n    <tr>\n      <th>54</th>\n      <td>Marcin</td>\n      <td>Pławik</td>\n      <td>k</td>\n      <td>2018-04-23</td>\n      <td>25</td>\n      <td>NaN</td>\n      <td>NaN</td>\n    </tr>\n  </tbody>\n</table>\n</div>"
     },
     "execution_count": 67,
     "metadata": {},
     "output_type": "execute_result"
    }
   ],
   "source": [
    "df_first_k = df_first.loc[df_first['group']=='k']\n",
    "df_first_k"
   ],
   "metadata": {
    "collapsed": false,
    "pycharm": {
     "name": "#%%\n"
    }
   }
  },
  {
   "cell_type": "code",
   "execution_count": 67,
   "outputs": [],
   "source": [],
   "metadata": {
    "collapsed": false,
    "pycharm": {
     "name": "#%%\n"
    }
   }
  },
  {
   "cell_type": "code",
   "execution_count": 68,
   "outputs": [
    {
     "data": {
      "text/plain": "   first_name     last_name group       date  result  \\\n1     Serafin    Białkowski     e 2019-06-03      23   \n5    Grzegorz   Chmielewski     e 2020-01-28      27   \n6      Patryk     Chojnacki     e 2020-01-28      25   \n11     Damian         Gawin     e 2020-02-28      36   \n13     Kacper       Gładysz     e 2018-04-23      30   \n21      Jakub  Kazimierczuk     e 2020-02-28      32   \n22     Patryk    Kędzierski     e 2019-06-03      25   \n27    Mateusz      Kochniak     e 2019-06-03      24   \n28     Hubert         Kosek     e 2020-04-23      33   \n33  Krzysztof      Kowalski     e 2020-01-28      29   \n34     Hubert   Kozierewicz     e 2018-04-23      33   \n37     Ernest      Krawczyk     e 2020-01-28      26   \n39      Kamil    Kruszyński     e 2019-01-10      30   \n41     Patryk       Matecki     e 2019-10-08      25   \n42     Patryk       Matecki     e 2020-01-28      31   \n44     Kacper      Michalak     e 2019-06-03      40   \n50     Damian     Pawłowski     e 2018-04-23      34   \n56     Michał       Różanka     e 2019-06-03      25   \n58     Robert       Smolski     e 2020-01-28      19   \n61     Patryk   Śledziewski     e 2018-04-23      24   \n63      Aleks       Watkins     e 2019-06-03      25   \n64      Jakub       Zemlich     e 2020-01-28      26   \n67    Mateusz        Żarski     e 2020-01-28      33   \n\n                            Komentarz  Kolumna1  \n1                                   0       NaN  \n5                                 NaN       NaN  \n6                                 NaN       NaN  \n11                                NaN       NaN  \n13                                NaN       NaN  \n21                                NaN       NaN  \n22  KKS-A(M) wypełniony schematycznie       NaN  \n27  KKS-A(M) wypełniony schematycznie       NaN  \n28                                NaN       NaN  \n33                                NaN       NaN  \n34                                NaN       NaN  \n37                                NaN       NaN  \n39                                NaN       NaN  \n41                          Komplet 3       NaN  \n42                                NaN       NaN  \n44                          Komplet 3       NaN  \n50                                NaN       NaN  \n56                   3 brak kns i ses       NaN  \n58                                NaN       NaN  \n61                                NaN       NaN  \n63                                  0       NaN  \n64                                NaN       NaN  \n67                                NaN       NaN  ",
      "text/html": "<div>\n<style scoped>\n    .dataframe tbody tr th:only-of-type {\n        vertical-align: middle;\n    }\n\n    .dataframe tbody tr th {\n        vertical-align: top;\n    }\n\n    .dataframe thead th {\n        text-align: right;\n    }\n</style>\n<table border=\"1\" class=\"dataframe\">\n  <thead>\n    <tr style=\"text-align: right;\">\n      <th></th>\n      <th>first_name</th>\n      <th>last_name</th>\n      <th>group</th>\n      <th>date</th>\n      <th>result</th>\n      <th>Komentarz</th>\n      <th>Kolumna1</th>\n    </tr>\n  </thead>\n  <tbody>\n    <tr>\n      <th>1</th>\n      <td>Serafin</td>\n      <td>Białkowski</td>\n      <td>e</td>\n      <td>2019-06-03</td>\n      <td>23</td>\n      <td>0</td>\n      <td>NaN</td>\n    </tr>\n    <tr>\n      <th>5</th>\n      <td>Grzegorz</td>\n      <td>Chmielewski</td>\n      <td>e</td>\n      <td>2020-01-28</td>\n      <td>27</td>\n      <td>NaN</td>\n      <td>NaN</td>\n    </tr>\n    <tr>\n      <th>6</th>\n      <td>Patryk</td>\n      <td>Chojnacki</td>\n      <td>e</td>\n      <td>2020-01-28</td>\n      <td>25</td>\n      <td>NaN</td>\n      <td>NaN</td>\n    </tr>\n    <tr>\n      <th>11</th>\n      <td>Damian</td>\n      <td>Gawin</td>\n      <td>e</td>\n      <td>2020-02-28</td>\n      <td>36</td>\n      <td>NaN</td>\n      <td>NaN</td>\n    </tr>\n    <tr>\n      <th>13</th>\n      <td>Kacper</td>\n      <td>Gładysz</td>\n      <td>e</td>\n      <td>2018-04-23</td>\n      <td>30</td>\n      <td>NaN</td>\n      <td>NaN</td>\n    </tr>\n    <tr>\n      <th>21</th>\n      <td>Jakub</td>\n      <td>Kazimierczuk</td>\n      <td>e</td>\n      <td>2020-02-28</td>\n      <td>32</td>\n      <td>NaN</td>\n      <td>NaN</td>\n    </tr>\n    <tr>\n      <th>22</th>\n      <td>Patryk</td>\n      <td>Kędzierski</td>\n      <td>e</td>\n      <td>2019-06-03</td>\n      <td>25</td>\n      <td>KKS-A(M) wypełniony schematycznie</td>\n      <td>NaN</td>\n    </tr>\n    <tr>\n      <th>27</th>\n      <td>Mateusz</td>\n      <td>Kochniak</td>\n      <td>e</td>\n      <td>2019-06-03</td>\n      <td>24</td>\n      <td>KKS-A(M) wypełniony schematycznie</td>\n      <td>NaN</td>\n    </tr>\n    <tr>\n      <th>28</th>\n      <td>Hubert</td>\n      <td>Kosek</td>\n      <td>e</td>\n      <td>2020-04-23</td>\n      <td>33</td>\n      <td>NaN</td>\n      <td>NaN</td>\n    </tr>\n    <tr>\n      <th>33</th>\n      <td>Krzysztof</td>\n      <td>Kowalski</td>\n      <td>e</td>\n      <td>2020-01-28</td>\n      <td>29</td>\n      <td>NaN</td>\n      <td>NaN</td>\n    </tr>\n    <tr>\n      <th>34</th>\n      <td>Hubert</td>\n      <td>Kozierewicz</td>\n      <td>e</td>\n      <td>2018-04-23</td>\n      <td>33</td>\n      <td>NaN</td>\n      <td>NaN</td>\n    </tr>\n    <tr>\n      <th>37</th>\n      <td>Ernest</td>\n      <td>Krawczyk</td>\n      <td>e</td>\n      <td>2020-01-28</td>\n      <td>26</td>\n      <td>NaN</td>\n      <td>NaN</td>\n    </tr>\n    <tr>\n      <th>39</th>\n      <td>Kamil</td>\n      <td>Kruszyński</td>\n      <td>e</td>\n      <td>2019-01-10</td>\n      <td>30</td>\n      <td>NaN</td>\n      <td>NaN</td>\n    </tr>\n    <tr>\n      <th>41</th>\n      <td>Patryk</td>\n      <td>Matecki</td>\n      <td>e</td>\n      <td>2019-10-08</td>\n      <td>25</td>\n      <td>Komplet 3</td>\n      <td>NaN</td>\n    </tr>\n    <tr>\n      <th>42</th>\n      <td>Patryk</td>\n      <td>Matecki</td>\n      <td>e</td>\n      <td>2020-01-28</td>\n      <td>31</td>\n      <td>NaN</td>\n      <td>NaN</td>\n    </tr>\n    <tr>\n      <th>44</th>\n      <td>Kacper</td>\n      <td>Michalak</td>\n      <td>e</td>\n      <td>2019-06-03</td>\n      <td>40</td>\n      <td>Komplet 3</td>\n      <td>NaN</td>\n    </tr>\n    <tr>\n      <th>50</th>\n      <td>Damian</td>\n      <td>Pawłowski</td>\n      <td>e</td>\n      <td>2018-04-23</td>\n      <td>34</td>\n      <td>NaN</td>\n      <td>NaN</td>\n    </tr>\n    <tr>\n      <th>56</th>\n      <td>Michał</td>\n      <td>Różanka</td>\n      <td>e</td>\n      <td>2019-06-03</td>\n      <td>25</td>\n      <td>3 brak kns i ses</td>\n      <td>NaN</td>\n    </tr>\n    <tr>\n      <th>58</th>\n      <td>Robert</td>\n      <td>Smolski</td>\n      <td>e</td>\n      <td>2020-01-28</td>\n      <td>19</td>\n      <td>NaN</td>\n      <td>NaN</td>\n    </tr>\n    <tr>\n      <th>61</th>\n      <td>Patryk</td>\n      <td>Śledziewski</td>\n      <td>e</td>\n      <td>2018-04-23</td>\n      <td>24</td>\n      <td>NaN</td>\n      <td>NaN</td>\n    </tr>\n    <tr>\n      <th>63</th>\n      <td>Aleks</td>\n      <td>Watkins</td>\n      <td>e</td>\n      <td>2019-06-03</td>\n      <td>25</td>\n      <td>0</td>\n      <td>NaN</td>\n    </tr>\n    <tr>\n      <th>64</th>\n      <td>Jakub</td>\n      <td>Zemlich</td>\n      <td>e</td>\n      <td>2020-01-28</td>\n      <td>26</td>\n      <td>NaN</td>\n      <td>NaN</td>\n    </tr>\n    <tr>\n      <th>67</th>\n      <td>Mateusz</td>\n      <td>Żarski</td>\n      <td>e</td>\n      <td>2020-01-28</td>\n      <td>33</td>\n      <td>NaN</td>\n      <td>NaN</td>\n    </tr>\n  </tbody>\n</table>\n</div>"
     },
     "execution_count": 68,
     "metadata": {},
     "output_type": "execute_result"
    }
   ],
   "source": [
    "df_second_e = df_second.loc[df_second['group'] == 'e']\n",
    "df_second_e"
   ],
   "metadata": {
    "collapsed": false,
    "pycharm": {
     "name": "#%%\n"
    }
   }
  },
  {
   "cell_type": "code",
   "execution_count": 69,
   "outputs": [
    {
     "data": {
      "text/plain": "    first_name    last_name group       date  result  \\\n2        Piotr    Borkowski     k 2018-04-23      22   \n8   Bartłomiej     Czechera     k 2019-06-03      22   \n14       Filip  Grzejszczak     k 2018-04-23      26   \n17      Kacper     Jagnicki     k 2018-04-23      30   \n18       Jakub     Jaworski     k 2020-02-28      30   \n24      Patryk       Kłusek     k 2018-04-23      22   \n31      Marcel    Kowalczyk     k 2018-04-23      30   \n47      Daniel   Nowakowski     k 2018-04-23      30   \n48     Bartosz        Pajka     k 2018-04-23      27   \n53   Klaudiusz     Pisarski     k 2019-06-03      35   \n55      Marcin       Pławik     k 2019-06-03      30   \n\n                             Komentarz  Kolumna1  \n2                                  NaN       NaN  \n8                                    0       NaN  \n14                                 NaN       NaN  \n17                                 NaN       NaN  \n18                                 NaN       NaN  \n24                             pilotaż       NaN  \n31                                 NaN       NaN  \n47                                 NaN       NaN  \n48                                 NaN       NaN  \n53  Końcówka KKS-A(M)mało zróżnicowana       NaN  \n55                   brak drugiego kks       NaN  ",
      "text/html": "<div>\n<style scoped>\n    .dataframe tbody tr th:only-of-type {\n        vertical-align: middle;\n    }\n\n    .dataframe tbody tr th {\n        vertical-align: top;\n    }\n\n    .dataframe thead th {\n        text-align: right;\n    }\n</style>\n<table border=\"1\" class=\"dataframe\">\n  <thead>\n    <tr style=\"text-align: right;\">\n      <th></th>\n      <th>first_name</th>\n      <th>last_name</th>\n      <th>group</th>\n      <th>date</th>\n      <th>result</th>\n      <th>Komentarz</th>\n      <th>Kolumna1</th>\n    </tr>\n  </thead>\n  <tbody>\n    <tr>\n      <th>2</th>\n      <td>Piotr</td>\n      <td>Borkowski</td>\n      <td>k</td>\n      <td>2018-04-23</td>\n      <td>22</td>\n      <td>NaN</td>\n      <td>NaN</td>\n    </tr>\n    <tr>\n      <th>8</th>\n      <td>Bartłomiej</td>\n      <td>Czechera</td>\n      <td>k</td>\n      <td>2019-06-03</td>\n      <td>22</td>\n      <td>0</td>\n      <td>NaN</td>\n    </tr>\n    <tr>\n      <th>14</th>\n      <td>Filip</td>\n      <td>Grzejszczak</td>\n      <td>k</td>\n      <td>2018-04-23</td>\n      <td>26</td>\n      <td>NaN</td>\n      <td>NaN</td>\n    </tr>\n    <tr>\n      <th>17</th>\n      <td>Kacper</td>\n      <td>Jagnicki</td>\n      <td>k</td>\n      <td>2018-04-23</td>\n      <td>30</td>\n      <td>NaN</td>\n      <td>NaN</td>\n    </tr>\n    <tr>\n      <th>18</th>\n      <td>Jakub</td>\n      <td>Jaworski</td>\n      <td>k</td>\n      <td>2020-02-28</td>\n      <td>30</td>\n      <td>NaN</td>\n      <td>NaN</td>\n    </tr>\n    <tr>\n      <th>24</th>\n      <td>Patryk</td>\n      <td>Kłusek</td>\n      <td>k</td>\n      <td>2018-04-23</td>\n      <td>22</td>\n      <td>pilotaż</td>\n      <td>NaN</td>\n    </tr>\n    <tr>\n      <th>31</th>\n      <td>Marcel</td>\n      <td>Kowalczyk</td>\n      <td>k</td>\n      <td>2018-04-23</td>\n      <td>30</td>\n      <td>NaN</td>\n      <td>NaN</td>\n    </tr>\n    <tr>\n      <th>47</th>\n      <td>Daniel</td>\n      <td>Nowakowski</td>\n      <td>k</td>\n      <td>2018-04-23</td>\n      <td>30</td>\n      <td>NaN</td>\n      <td>NaN</td>\n    </tr>\n    <tr>\n      <th>48</th>\n      <td>Bartosz</td>\n      <td>Pajka</td>\n      <td>k</td>\n      <td>2018-04-23</td>\n      <td>27</td>\n      <td>NaN</td>\n      <td>NaN</td>\n    </tr>\n    <tr>\n      <th>53</th>\n      <td>Klaudiusz</td>\n      <td>Pisarski</td>\n      <td>k</td>\n      <td>2019-06-03</td>\n      <td>35</td>\n      <td>Końcówka KKS-A(M)mało zróżnicowana</td>\n      <td>NaN</td>\n    </tr>\n    <tr>\n      <th>55</th>\n      <td>Marcin</td>\n      <td>Pławik</td>\n      <td>k</td>\n      <td>2019-06-03</td>\n      <td>30</td>\n      <td>brak drugiego kks</td>\n      <td>NaN</td>\n    </tr>\n  </tbody>\n</table>\n</div>"
     },
     "execution_count": 69,
     "metadata": {},
     "output_type": "execute_result"
    }
   ],
   "source": [
    "df_second_k = df_second.loc[df_second['group'] == 'k']\n",
    "df_second_k"
   ],
   "metadata": {
    "collapsed": false,
    "pycharm": {
     "name": "#%%\n"
    }
   }
  },
  {
   "cell_type": "code",
   "execution_count": 70,
   "outputs": [],
   "source": [
    "mean_e_first = pd.DataFrame.mean(df_first_e, numeric_only=True)\n",
    "mean_e_first['type'] = ['e_first']\n",
    "mean_k_first = pd.DataFrame.mean(df_first_k, numeric_only=True)\n",
    "mean_k_first['type'] = ['k_first']\n",
    "mean_e_second = pd.DataFrame.mean(df_second_e, numeric_only=True)\n",
    "mean_e_second['type'] = ['e_second']\n",
    "mean_k_second = pd.DataFrame.mean(df_second_k, numeric_only=True)\n",
    "mean_k_second['type'] = ['k_second']\n"
   ],
   "metadata": {
    "collapsed": false,
    "pycharm": {
     "name": "#%%\n"
    }
   }
  },
  {
   "cell_type": "code",
   "execution_count": 71,
   "outputs": [
    {
     "data": {
      "text/plain": "result    27.521739\ntype      [e_first]\ndtype: object"
     },
     "execution_count": 71,
     "metadata": {},
     "output_type": "execute_result"
    }
   ],
   "source": [
    "mean_e_first"
   ],
   "metadata": {
    "collapsed": false,
    "pycharm": {
     "name": "#%%\n"
    }
   }
  },
  {
   "cell_type": "code",
   "execution_count": 72,
   "outputs": [
    {
     "data": {
      "text/plain": "result       28.478261\nKolumna1           NaN\ntype        [e_second]\ndtype: object"
     },
     "execution_count": 72,
     "metadata": {},
     "output_type": "execute_result"
    }
   ],
   "source": [
    "mean_e_second"
   ],
   "metadata": {
    "collapsed": false,
    "pycharm": {
     "name": "#%%\n"
    }
   }
  },
  {
   "cell_type": "code",
   "execution_count": 81,
   "outputs": [
    {
     "data": {
      "text/plain": "result       27.636364\nKolumna1           NaN\ntype        [k_second]\ndtype: object"
     },
     "execution_count": 81,
     "metadata": {},
     "output_type": "execute_result"
    }
   ],
   "source": [
    "mean_k_second"
   ],
   "metadata": {
    "collapsed": false,
    "pycharm": {
     "name": "#%%\n"
    }
   }
  },
  {
   "cell_type": "code",
   "execution_count": 80,
   "outputs": [
    {
     "data": {
      "text/plain": "    first_name     last_name group       date  result  \\\n1      Serafin    Białkowski     e 2019-06-03      23   \n2        Piotr     Borkowski     k 2018-04-23      22   \n5     Grzegorz   Chmielewski     e 2020-01-28      27   \n6       Patryk     Chojnacki     e 2020-01-28      25   \n8   Bartłomiej      Czechera     k 2019-06-03      22   \n11      Damian         Gawin     e 2020-02-28      36   \n13      Kacper       Gładysz     e 2018-04-23      30   \n14       Filip   Grzejszczak     k 2018-04-23      26   \n17      Kacper      Jagnicki     k 2018-04-23      30   \n18       Jakub      Jaworski     k 2020-02-28      30   \n21       Jakub  Kazimierczuk     e 2020-02-28      32   \n22      Patryk    Kędzierski     e 2019-06-03      25   \n24      Patryk        Kłusek     k 2018-04-23      22   \n27     Mateusz      Kochniak     e 2019-06-03      24   \n28      Hubert         Kosek     e 2020-04-23      33   \n31      Marcel     Kowalczyk     k 2018-04-23      30   \n33   Krzysztof      Kowalski     e 2020-01-28      29   \n34      Hubert   Kozierewicz     e 2018-04-23      33   \n37      Ernest      Krawczyk     e 2020-01-28      26   \n39       Kamil    Kruszyński     e 2019-01-10      30   \n41      Patryk       Matecki     e 2019-10-08      25   \n42      Patryk       Matecki     e 2020-01-28      31   \n44      Kacper      Michalak     e 2019-06-03      40   \n47      Daniel    Nowakowski     k 2018-04-23      30   \n48     Bartosz         Pajka     k 2018-04-23      27   \n50      Damian     Pawłowski     e 2018-04-23      34   \n53   Klaudiusz      Pisarski     k 2019-06-03      35   \n55      Marcin        Pławik     k 2019-06-03      30   \n56      Michał       Różanka     e 2019-06-03      25   \n58      Robert       Smolski     e 2020-01-28      19   \n61      Patryk   Śledziewski     e 2018-04-23      24   \n63       Aleks       Watkins     e 2019-06-03      25   \n64       Jakub       Zemlich     e 2020-01-28      26   \n67     Mateusz        Żarski     e 2020-01-28      33   \n\n                             Komentarz  Kolumna1  \n1                                    0       NaN  \n2                                  NaN       NaN  \n5                                  NaN       NaN  \n6                                  NaN       NaN  \n8                                    0       NaN  \n11                                 NaN       NaN  \n13                                 NaN       NaN  \n14                                 NaN       NaN  \n17                                 NaN       NaN  \n18                                 NaN       NaN  \n21                                 NaN       NaN  \n22   KKS-A(M) wypełniony schematycznie       NaN  \n24                             pilotaż       NaN  \n27   KKS-A(M) wypełniony schematycznie       NaN  \n28                                 NaN       NaN  \n31                                 NaN       NaN  \n33                                 NaN       NaN  \n34                                 NaN       NaN  \n37                                 NaN       NaN  \n39                                 NaN       NaN  \n41                           Komplet 3       NaN  \n42                                 NaN       NaN  \n44                           Komplet 3       NaN  \n47                                 NaN       NaN  \n48                                 NaN       NaN  \n50                                 NaN       NaN  \n53  Końcówka KKS-A(M)mało zróżnicowana       NaN  \n55                   brak drugiego kks       NaN  \n56                    3 brak kns i ses       NaN  \n58                                 NaN       NaN  \n61                                 NaN       NaN  \n63                                   0       NaN  \n64                                 NaN       NaN  \n67                                 NaN       NaN  ",
      "text/html": "<div>\n<style scoped>\n    .dataframe tbody tr th:only-of-type {\n        vertical-align: middle;\n    }\n\n    .dataframe tbody tr th {\n        vertical-align: top;\n    }\n\n    .dataframe thead th {\n        text-align: right;\n    }\n</style>\n<table border=\"1\" class=\"dataframe\">\n  <thead>\n    <tr style=\"text-align: right;\">\n      <th></th>\n      <th>first_name</th>\n      <th>last_name</th>\n      <th>group</th>\n      <th>date</th>\n      <th>result</th>\n      <th>Komentarz</th>\n      <th>Kolumna1</th>\n    </tr>\n  </thead>\n  <tbody>\n    <tr>\n      <th>1</th>\n      <td>Serafin</td>\n      <td>Białkowski</td>\n      <td>e</td>\n      <td>2019-06-03</td>\n      <td>23</td>\n      <td>0</td>\n      <td>NaN</td>\n    </tr>\n    <tr>\n      <th>2</th>\n      <td>Piotr</td>\n      <td>Borkowski</td>\n      <td>k</td>\n      <td>2018-04-23</td>\n      <td>22</td>\n      <td>NaN</td>\n      <td>NaN</td>\n    </tr>\n    <tr>\n      <th>5</th>\n      <td>Grzegorz</td>\n      <td>Chmielewski</td>\n      <td>e</td>\n      <td>2020-01-28</td>\n      <td>27</td>\n      <td>NaN</td>\n      <td>NaN</td>\n    </tr>\n    <tr>\n      <th>6</th>\n      <td>Patryk</td>\n      <td>Chojnacki</td>\n      <td>e</td>\n      <td>2020-01-28</td>\n      <td>25</td>\n      <td>NaN</td>\n      <td>NaN</td>\n    </tr>\n    <tr>\n      <th>8</th>\n      <td>Bartłomiej</td>\n      <td>Czechera</td>\n      <td>k</td>\n      <td>2019-06-03</td>\n      <td>22</td>\n      <td>0</td>\n      <td>NaN</td>\n    </tr>\n    <tr>\n      <th>11</th>\n      <td>Damian</td>\n      <td>Gawin</td>\n      <td>e</td>\n      <td>2020-02-28</td>\n      <td>36</td>\n      <td>NaN</td>\n      <td>NaN</td>\n    </tr>\n    <tr>\n      <th>13</th>\n      <td>Kacper</td>\n      <td>Gładysz</td>\n      <td>e</td>\n      <td>2018-04-23</td>\n      <td>30</td>\n      <td>NaN</td>\n      <td>NaN</td>\n    </tr>\n    <tr>\n      <th>14</th>\n      <td>Filip</td>\n      <td>Grzejszczak</td>\n      <td>k</td>\n      <td>2018-04-23</td>\n      <td>26</td>\n      <td>NaN</td>\n      <td>NaN</td>\n    </tr>\n    <tr>\n      <th>17</th>\n      <td>Kacper</td>\n      <td>Jagnicki</td>\n      <td>k</td>\n      <td>2018-04-23</td>\n      <td>30</td>\n      <td>NaN</td>\n      <td>NaN</td>\n    </tr>\n    <tr>\n      <th>18</th>\n      <td>Jakub</td>\n      <td>Jaworski</td>\n      <td>k</td>\n      <td>2020-02-28</td>\n      <td>30</td>\n      <td>NaN</td>\n      <td>NaN</td>\n    </tr>\n    <tr>\n      <th>21</th>\n      <td>Jakub</td>\n      <td>Kazimierczuk</td>\n      <td>e</td>\n      <td>2020-02-28</td>\n      <td>32</td>\n      <td>NaN</td>\n      <td>NaN</td>\n    </tr>\n    <tr>\n      <th>22</th>\n      <td>Patryk</td>\n      <td>Kędzierski</td>\n      <td>e</td>\n      <td>2019-06-03</td>\n      <td>25</td>\n      <td>KKS-A(M) wypełniony schematycznie</td>\n      <td>NaN</td>\n    </tr>\n    <tr>\n      <th>24</th>\n      <td>Patryk</td>\n      <td>Kłusek</td>\n      <td>k</td>\n      <td>2018-04-23</td>\n      <td>22</td>\n      <td>pilotaż</td>\n      <td>NaN</td>\n    </tr>\n    <tr>\n      <th>27</th>\n      <td>Mateusz</td>\n      <td>Kochniak</td>\n      <td>e</td>\n      <td>2019-06-03</td>\n      <td>24</td>\n      <td>KKS-A(M) wypełniony schematycznie</td>\n      <td>NaN</td>\n    </tr>\n    <tr>\n      <th>28</th>\n      <td>Hubert</td>\n      <td>Kosek</td>\n      <td>e</td>\n      <td>2020-04-23</td>\n      <td>33</td>\n      <td>NaN</td>\n      <td>NaN</td>\n    </tr>\n    <tr>\n      <th>31</th>\n      <td>Marcel</td>\n      <td>Kowalczyk</td>\n      <td>k</td>\n      <td>2018-04-23</td>\n      <td>30</td>\n      <td>NaN</td>\n      <td>NaN</td>\n    </tr>\n    <tr>\n      <th>33</th>\n      <td>Krzysztof</td>\n      <td>Kowalski</td>\n      <td>e</td>\n      <td>2020-01-28</td>\n      <td>29</td>\n      <td>NaN</td>\n      <td>NaN</td>\n    </tr>\n    <tr>\n      <th>34</th>\n      <td>Hubert</td>\n      <td>Kozierewicz</td>\n      <td>e</td>\n      <td>2018-04-23</td>\n      <td>33</td>\n      <td>NaN</td>\n      <td>NaN</td>\n    </tr>\n    <tr>\n      <th>37</th>\n      <td>Ernest</td>\n      <td>Krawczyk</td>\n      <td>e</td>\n      <td>2020-01-28</td>\n      <td>26</td>\n      <td>NaN</td>\n      <td>NaN</td>\n    </tr>\n    <tr>\n      <th>39</th>\n      <td>Kamil</td>\n      <td>Kruszyński</td>\n      <td>e</td>\n      <td>2019-01-10</td>\n      <td>30</td>\n      <td>NaN</td>\n      <td>NaN</td>\n    </tr>\n    <tr>\n      <th>41</th>\n      <td>Patryk</td>\n      <td>Matecki</td>\n      <td>e</td>\n      <td>2019-10-08</td>\n      <td>25</td>\n      <td>Komplet 3</td>\n      <td>NaN</td>\n    </tr>\n    <tr>\n      <th>42</th>\n      <td>Patryk</td>\n      <td>Matecki</td>\n      <td>e</td>\n      <td>2020-01-28</td>\n      <td>31</td>\n      <td>NaN</td>\n      <td>NaN</td>\n    </tr>\n    <tr>\n      <th>44</th>\n      <td>Kacper</td>\n      <td>Michalak</td>\n      <td>e</td>\n      <td>2019-06-03</td>\n      <td>40</td>\n      <td>Komplet 3</td>\n      <td>NaN</td>\n    </tr>\n    <tr>\n      <th>47</th>\n      <td>Daniel</td>\n      <td>Nowakowski</td>\n      <td>k</td>\n      <td>2018-04-23</td>\n      <td>30</td>\n      <td>NaN</td>\n      <td>NaN</td>\n    </tr>\n    <tr>\n      <th>48</th>\n      <td>Bartosz</td>\n      <td>Pajka</td>\n      <td>k</td>\n      <td>2018-04-23</td>\n      <td>27</td>\n      <td>NaN</td>\n      <td>NaN</td>\n    </tr>\n    <tr>\n      <th>50</th>\n      <td>Damian</td>\n      <td>Pawłowski</td>\n      <td>e</td>\n      <td>2018-04-23</td>\n      <td>34</td>\n      <td>NaN</td>\n      <td>NaN</td>\n    </tr>\n    <tr>\n      <th>53</th>\n      <td>Klaudiusz</td>\n      <td>Pisarski</td>\n      <td>k</td>\n      <td>2019-06-03</td>\n      <td>35</td>\n      <td>Końcówka KKS-A(M)mało zróżnicowana</td>\n      <td>NaN</td>\n    </tr>\n    <tr>\n      <th>55</th>\n      <td>Marcin</td>\n      <td>Pławik</td>\n      <td>k</td>\n      <td>2019-06-03</td>\n      <td>30</td>\n      <td>brak drugiego kks</td>\n      <td>NaN</td>\n    </tr>\n    <tr>\n      <th>56</th>\n      <td>Michał</td>\n      <td>Różanka</td>\n      <td>e</td>\n      <td>2019-06-03</td>\n      <td>25</td>\n      <td>3 brak kns i ses</td>\n      <td>NaN</td>\n    </tr>\n    <tr>\n      <th>58</th>\n      <td>Robert</td>\n      <td>Smolski</td>\n      <td>e</td>\n      <td>2020-01-28</td>\n      <td>19</td>\n      <td>NaN</td>\n      <td>NaN</td>\n    </tr>\n    <tr>\n      <th>61</th>\n      <td>Patryk</td>\n      <td>Śledziewski</td>\n      <td>e</td>\n      <td>2018-04-23</td>\n      <td>24</td>\n      <td>NaN</td>\n      <td>NaN</td>\n    </tr>\n    <tr>\n      <th>63</th>\n      <td>Aleks</td>\n      <td>Watkins</td>\n      <td>e</td>\n      <td>2019-06-03</td>\n      <td>25</td>\n      <td>0</td>\n      <td>NaN</td>\n    </tr>\n    <tr>\n      <th>64</th>\n      <td>Jakub</td>\n      <td>Zemlich</td>\n      <td>e</td>\n      <td>2020-01-28</td>\n      <td>26</td>\n      <td>NaN</td>\n      <td>NaN</td>\n    </tr>\n    <tr>\n      <th>67</th>\n      <td>Mateusz</td>\n      <td>Żarski</td>\n      <td>e</td>\n      <td>2020-01-28</td>\n      <td>33</td>\n      <td>NaN</td>\n      <td>NaN</td>\n    </tr>\n  </tbody>\n</table>\n</div>"
     },
     "execution_count": 80,
     "metadata": {},
     "output_type": "execute_result"
    }
   ],
   "source": [
    "#pyreadstat.write_sav(df_first, 'D:\\\\pythonProject\\\\df1.sav')\n",
    "#pyreadstat.write_sav(df_second, 'D:\\\\pythonProject\\\\df2.sav')\n",
    "\n"
   ],
   "metadata": {
    "collapsed": false,
    "pycharm": {
     "name": "#%%\n"
    }
   }
  }
 ],
 "metadata": {
  "kernelspec": {
   "display_name": "Python 3 (ipykernel)",
   "language": "python",
   "name": "python3"
  },
  "language_info": {
   "codemirror_mode": {
    "name": "ipython",
    "version": 3
   },
   "file_extension": ".py",
   "mimetype": "text/x-python",
   "name": "python",
   "nbconvert_exporter": "python",
   "pygments_lexer": "ipython3",
   "version": "3.10.0"
  }
 },
 "nbformat": 4,
 "nbformat_minor": 5
}